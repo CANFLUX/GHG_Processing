{
 "cells": [
  {
   "attachments": {},
   "cell_type": "markdown",
   "metadata": {},
   "source": [
    "## Read .ghg metadata"
   ]
  },
  {
   "cell_type": "code",
   "execution_count": null,
   "metadata": {},
   "outputs": [],
   "source": [
    "import os\n",
    "import time\n",
    "import pandas as pd\n",
    "from Parse_GHG import read_GHG\n",
    "from ipywidgets import FloatProgress\n",
    "from IPython.display import display\n",
    "\n",
    "# Site = 'BB2'\n",
    "\n",
    "# Values we expect to change\n",
    "dynamicMetaData_Headers = ['altitude','canopy_height']\n",
    "\n",
    "# Values we want to fix\n",
    "staticMetaData_FloatHeaders = ['altitude', 'latitude', 'longitude']\n",
    "staticMetaData_TextHeaders = ['site_name']\n",
    "\n",
    "T1 = time.time()\n",
    "print('Processing ghg files ')\n",
    "f = FloatProgress(min=0, max=1) \n",
    "display(f) \n",
    "# Walk through the directory to find all \"raw\" folders\n",
    "\n",
    "N_recs = 4#8*31\n",
    "def find_new_GHG(Site,make_new=False):\n",
    "\n",
    "    i = 0\n",
    "    Dpath = 'C:\\\\highfreq\\\\'\n",
    "    raw_dir = Dpath+Site+'\\\\raw\\\\'\n",
    "    meta_dir = Dpath+Site+'\\\\metadata\\\\'\n",
    "    meta_file = meta_dir+'GHGMetaData.csv'\n",
    "\n",
    "    if os.path.isfile(meta_file) and make_new is False:\n",
    "        Records = pd.read_csv(meta_file,parse_dates=['TimeStamp'])\n",
    "        FileNames = Records['filename'].tolist()\n",
    "    else:\n",
    "        Records = pd.DataFrame()\n",
    "        FileNames = []\n",
    "        if not os.path.exists(meta_dir):\n",
    "            os.mkdir(meta_dir)\n",
    "    \n",
    "\n",
    "    for (root, dirs, files) in sorted(os.walk(raw_dir)):\n",
    "        # if root.__contains__('raw') :\n",
    "        for file in files:\n",
    "            name, tag = file.split('.')\n",
    "            # .ghg files are located at the end of each directory tree\n",
    "            # Avoids reading any that might be misplaced elsewhere\n",
    "            if tag == 'ghg' and len(dirs)==0 and file not in FileNames:  \n",
    "                \n",
    "                if i <= 48*5:\n",
    "                    GHG_out = read_GHG(root,name)\n",
    "                    Records = pd.concat(\n",
    "                        [Records,GHG_out.Summary],\n",
    "                    axis=0,\n",
    "                    ignore_index=True\n",
    "                    )\n",
    "                    i += 1\n",
    "            f.value = i/len(files)\n",
    "    return(Records,meta_dir,i)\n",
    "\n",
    "Records,meta_dir,i = find_new_GHG('BB')\n",
    "\n",
    "Records.to_csv(meta_dir+'GHGMetaData.csv',index=False)\n",
    "\n",
    "elapsed = time.time()-T1\n",
    "print('Processing time ', elapsed) \n",
    "print('To inspect ', i, ' .ghg files')\n",
    "print('Seconds/file ', elapsed/(i+1)) \n",
    "\n",
    "staticMetaData = Records[staticMetaData_FloatHeaders].astype(float).mean()\n",
    "staticMetaData = pd.concat([Records[staticMetaData_TextHeaders].astype(str).mode().T[0],staticMetaData])\n",
    "print(staticMetaData)\n",
    "\n",
    "dynamicMetaData = Records.set_index('TimeStamp')[dynamicMetaData_Headers]\n",
    "dynamicMetaData['date']=dynamicMetaData.index.date\n",
    "dynamicMetaData['time']=dynamicMetaData.index.time\n",
    "dynamicMetaData.to_csv(meta_dir+'dynamicMetaData.csv',index=False)\n",
    "dynamicMetaData\n",
    "\n",
    "# Processing time  65.87000775337219\n",
    "# To inspect  241  .ghg files\n",
    "\n",
    "Records['altitude'].astype(float).describe()\n"
   ]
  },
  {
   "cell_type": "code",
   "execution_count": null,
   "metadata": {},
   "outputs": [],
   "source": [
    "import matlab.engine\n",
    "eng = matlab.engine.start_matlab()\n",
    "# eng.triarea(nargout=0)"
   ]
  },
  {
   "cell_type": "code",
   "execution_count": 25,
   "metadata": {},
   "outputs": [
    {
     "ename": "TypeError",
     "evalue": "unsupported Python data type: datetime.date",
     "output_type": "error",
     "traceback": [
      "\u001b[1;31m---------------------------------------------------------------------------\u001b[0m",
      "\u001b[1;31mTypeError\u001b[0m                                 Traceback (most recent call last)",
      "Cell \u001b[1;32mIn[25], line 1\u001b[0m\n\u001b[1;32m----> 1\u001b[0m eng\u001b[39m.\u001b[39;49mrunEddyPro(pd\u001b[39m.\u001b[39;49mdate_range(\u001b[39m'\u001b[39;49m\u001b[39m01-Jul-2022\u001b[39;49m\u001b[39m'\u001b[39;49m,\u001b[39m'\u001b[39;49m\u001b[39m02-Jul-2022\u001b[39;49m\u001b[39m'\u001b[39;49m)\u001b[39m.\u001b[39;49mdate\u001b[39m.\u001b[39;49mtolist(),\n\u001b[0;32m      2\u001b[0m                \u001b[39m'\u001b[39;49m\u001b[39mBB\u001b[39;49m\u001b[39m'\u001b[39;49m,\u001b[39m'\u001b[39;49m\u001b[39mC:\u001b[39;49m\u001b[39m\\\u001b[39;49m\u001b[39mhighfreq\u001b[39;49m\u001b[39m'\u001b[39;49m,\u001b[39m'\u001b[39;49m\u001b[39mC:\u001b[39;49m\u001b[39m\\t\u001b[39;49;00m\u001b[39memp\u001b[39;49m\u001b[39m\\\u001b[39;49m\u001b[39mEP_Testing\u001b[39;49m\u001b[39m\\\u001b[39;49m\u001b[39mEP_Output_Test\u001b[39;49m\u001b[39m'\u001b[39;49m,\u001b[39m0\u001b[39;49m,\u001b[39m'\u001b[39;49m\u001b[39m12:00\u001b[39;49m\u001b[39m'\u001b[39;49m,\u001b[39m'\u001b[39;49m\u001b[39m13:00\u001b[39;49m\u001b[39m'\u001b[39;49m,[],\u001b[39m2\u001b[39;49m,nargout\u001b[39m=\u001b[39;49m\u001b[39m0\u001b[39;49m)\n",
      "File \u001b[1;32mc:\\Users\\User\\PostDoc_Work\\GHG_Processing\\.venv\\lib\\site-packages\\matlab\\engine\\matlabengine.py:64\u001b[0m, in \u001b[0;36mMatlabFunc.__call__\u001b[1;34m(self, *args, **kwargs)\u001b[0m\n\u001b[0;32m     61\u001b[0m     _stderr_info \u001b[39m=\u001b[39m \u001b[39m'\u001b[39m\u001b[39m{0}\u001b[39;00m\u001b[39m.\u001b[39m\u001b[39m{1}\u001b[39;00m\u001b[39m'\u001b[39m\u001b[39m.\u001b[39mformat(_stderr\u001b[39m.\u001b[39m\u001b[39m__class__\u001b[39m\u001b[39m.\u001b[39m\u001b[39m__module__\u001b[39m, _stderr\u001b[39m.\u001b[39m\u001b[39m__class__\u001b[39m\u001b[39m.\u001b[39m\u001b[39m__name__\u001b[39m);\n\u001b[0;32m     62\u001b[0m     \u001b[39mraise\u001b[39;00m \u001b[39mTypeError\u001b[39;00m(pythonengine\u001b[39m.\u001b[39mgetMessage(\u001b[39m'\u001b[39m\u001b[39mStderrMustBeStringIO\u001b[39m\u001b[39m'\u001b[39m, _sIO_info, _stderr_info))\n\u001b[1;32m---> 64\u001b[0m future \u001b[39m=\u001b[39m pythonengine\u001b[39m.\u001b[39;49mevaluateFunction(\u001b[39mself\u001b[39;49m\u001b[39m.\u001b[39;49m_engine()\u001b[39m.\u001b[39;49m_matlab,\n\u001b[0;32m     65\u001b[0m                                        \u001b[39mself\u001b[39;49m\u001b[39m.\u001b[39;49m_name, nargs,args,\n\u001b[0;32m     66\u001b[0m                                        out\u001b[39m=\u001b[39;49m_stdout, err\u001b[39m=\u001b[39;49m_stderr)\n\u001b[0;32m     67\u001b[0m \u001b[39mif\u001b[39;00m background:\n\u001b[0;32m     68\u001b[0m     \u001b[39mreturn\u001b[39;00m FutureResult(\u001b[39mself\u001b[39m\u001b[39m.\u001b[39m_engine(), future, nargs, _stdout, _stderr, feval\u001b[39m=\u001b[39m\u001b[39mTrue\u001b[39;00m)\n",
      "\u001b[1;31mTypeError\u001b[0m: unsupported Python data type: datetime.date"
     ]
    }
   ],
   "source": [
    "eng.runEddyPro(['01-Jul-2022' '02-Jul-2022'],\n",
    "               'BB','C:\\highfreq','C:\\temp\\EP_Testing\\EP_Output_Test',0,'12:00','13:00',[],2,nargout=0)"
   ]
  },
  {
   "cell_type": "code",
   "execution_count": 29,
   "metadata": {},
   "outputs": [
    {
     "data": {
      "text/plain": [
       "[datetime.date(2022, 7, 1), datetime.date(2022, 7, 2)]"
      ]
     },
     "execution_count": 29,
     "metadata": {},
     "output_type": "execute_result"
    }
   ],
   "source": [
    "# eng.datetime(2022,7,1):\n",
    "# matlab.\n",
    "from datetime import datetime\n",
    "import pandas as pd\n",
    "pd.date_range().date.tolist()\n",
    "\n",
    "\n",
    "\n"
   ]
  }
 ],
 "metadata": {
  "kernelspec": {
   "display_name": ".venv",
   "language": "python",
   "name": "python3"
  },
  "language_info": {
   "codemirror_mode": {
    "name": "ipython",
    "version": 3
   },
   "file_extension": ".py",
   "mimetype": "text/x-python",
   "name": "python",
   "nbconvert_exporter": "python",
   "pygments_lexer": "ipython3",
   "version": "3.10.4"
  },
  "orig_nbformat": 4,
  "vscode": {
   "interpreter": {
    "hash": "ef0cd03416062db1397a6f4c064b2fd8fe41d0681561742315105bdf1dc915d9"
   }
  }
 },
 "nbformat": 4,
 "nbformat_minor": 2
}
