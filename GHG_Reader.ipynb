{
 "cells": [
  {
   "attachments": {},
   "cell_type": "markdown",
   "metadata": {},
   "source": [
    "## Read .ghg metadata"
   ]
  },
  {
   "cell_type": "code",
   "execution_count": 1,
   "metadata": {},
   "outputs": [
    {
     "name": "stdout",
     "output_type": "stream",
     "text": [
      "Processing ghg files \n"
     ]
    },
    {
     "data": {
      "application/vnd.jupyter.widget-view+json": {
       "model_id": "b34e15dc12e14915ab09770249ca8990",
       "version_major": 2,
       "version_minor": 0
      },
      "text/plain": [
       "FloatProgress(value=0.0, max=1.0)"
      ]
     },
     "metadata": {},
     "output_type": "display_data"
    },
    {
     "name": "stdout",
     "output_type": "stream",
     "text": [
      "                  index       0      1\n",
      "0      Diagnostic Value  8189.0    NaN\n",
      "1    Diagnostic Value 2     1.0    NaN\n",
      "2  CH4 Diagnostic Value   143.0  207.0\n"
     ]
    },
    {
     "ename": "ValueError",
     "evalue": "Length mismatch: Expected axis has 3 elements, new values have 2 elements",
     "output_type": "error",
     "traceback": [
      "\u001b[1;31m---------------------------------------------------------------------------\u001b[0m",
      "\u001b[1;31mValueError\u001b[0m                                Traceback (most recent call last)",
      "Cell \u001b[1;32mIn[1], line 61\u001b[0m\n\u001b[0;32m     58\u001b[0m             f\u001b[39m.\u001b[39mvalue \u001b[39m=\u001b[39m i\u001b[39m/\u001b[39m\u001b[39mlen\u001b[39m(files)\n\u001b[0;32m     59\u001b[0m     \u001b[39mreturn\u001b[39;00m(Records,meta_dir,i)\n\u001b[1;32m---> 61\u001b[0m Records,meta_dir,i \u001b[39m=\u001b[39m find_new_GHG(\u001b[39m'\u001b[39;49m\u001b[39mBB\u001b[39;49m\u001b[39m'\u001b[39;49m)\n\u001b[0;32m     63\u001b[0m Records\u001b[39m.\u001b[39mto_csv(meta_dir\u001b[39m+\u001b[39m\u001b[39m'\u001b[39m\u001b[39mGHGMetaData.csv\u001b[39m\u001b[39m'\u001b[39m,index\u001b[39m=\u001b[39m\u001b[39mFalse\u001b[39;00m)\n\u001b[0;32m     65\u001b[0m elapsed \u001b[39m=\u001b[39m time\u001b[39m.\u001b[39mtime()\u001b[39m-\u001b[39mT1\n",
      "Cell \u001b[1;32mIn[1], line 51\u001b[0m, in \u001b[0;36mfind_new_GHG\u001b[1;34m(Site, make_new)\u001b[0m\n\u001b[0;32m     48\u001b[0m \u001b[39mif\u001b[39;00m tag \u001b[39m==\u001b[39m \u001b[39m'\u001b[39m\u001b[39mghg\u001b[39m\u001b[39m'\u001b[39m \u001b[39mand\u001b[39;00m \u001b[39mlen\u001b[39m(dirs)\u001b[39m==\u001b[39m\u001b[39m0\u001b[39m \u001b[39mand\u001b[39;00m file \u001b[39mnot\u001b[39;00m \u001b[39min\u001b[39;00m FileNames:  \n\u001b[0;32m     50\u001b[0m     \u001b[39mif\u001b[39;00m i \u001b[39m<\u001b[39m\u001b[39m=\u001b[39m \u001b[39m48\u001b[39m\u001b[39m*\u001b[39m\u001b[39m5\u001b[39m:\n\u001b[1;32m---> 51\u001b[0m         GHG_out \u001b[39m=\u001b[39m read_GHG(root,name)\n\u001b[0;32m     52\u001b[0m         Records \u001b[39m=\u001b[39m pd\u001b[39m.\u001b[39mconcat(\n\u001b[0;32m     53\u001b[0m             [Records,GHG_out\u001b[39m.\u001b[39mSummary],\n\u001b[0;32m     54\u001b[0m         axis\u001b[39m=\u001b[39m\u001b[39m0\u001b[39m,\n\u001b[0;32m     55\u001b[0m         ignore_index\u001b[39m=\u001b[39m\u001b[39mTrue\u001b[39;00m\n\u001b[0;32m     56\u001b[0m         )\n\u001b[0;32m     57\u001b[0m         i \u001b[39m+\u001b[39m\u001b[39m=\u001b[39m \u001b[39m1\u001b[39m\n",
      "File \u001b[1;32mc:\\Users\\User\\PostDoc_Work\\GHG_Processing\\Parse_GHG.py:36\u001b[0m, in \u001b[0;36mread_GHG.__init__\u001b[1;34m(self, root, name)\u001b[0m\n\u001b[0;32m     34\u001b[0m \u001b[39mself\u001b[39m\u001b[39m.\u001b[39mParse_Metadata()\n\u001b[0;32m     35\u001b[0m Data \u001b[39m=\u001b[39m pd\u001b[39m.\u001b[39mread_csv(zip_ref\u001b[39m.\u001b[39mopen(name\u001b[39m+\u001b[39m\u001b[39m'\u001b[39m\u001b[39m.data\u001b[39m\u001b[39m'\u001b[39m),delimiter\u001b[39m=\u001b[39m\u001b[39m'\u001b[39m\u001b[39m\\t\u001b[39;00m\u001b[39m'\u001b[39m,skiprows\u001b[39m=\u001b[39m\u001b[39m7\u001b[39m)\n\u001b[1;32m---> 36\u001b[0m Data_Summary \u001b[39m=\u001b[39m \u001b[39mself\u001b[39;49m\u001b[39m.\u001b[39;49mSummarize_Data(Data,\u001b[39mself\u001b[39;49m\u001b[39m.\u001b[39;49mdata_Means,\u001b[39mself\u001b[39;49m\u001b[39m.\u001b[39;49mdata_Diagnostics)\n\u001b[0;32m     37\u001b[0m Status \u001b[39m=\u001b[39m pd\u001b[39m.\u001b[39mread_csv(zip_ref\u001b[39m.\u001b[39mopen(name\u001b[39m+\u001b[39m\u001b[39m'\u001b[39m\u001b[39m-li7700.status\u001b[39m\u001b[39m'\u001b[39m),delimiter\u001b[39m=\u001b[39m\u001b[39m'\u001b[39m\u001b[39m\\t\u001b[39;00m\u001b[39m'\u001b[39m,skiprows\u001b[39m=\u001b[39m\u001b[39m7\u001b[39m)\n\u001b[0;32m     38\u001b[0m Status_Summary \u001b[39m=\u001b[39m \u001b[39mself\u001b[39m\u001b[39m.\u001b[39mSummarize_Data(Status,\u001b[39mself\u001b[39m\u001b[39m.\u001b[39mstatus_Means)\n",
      "File \u001b[1;32mc:\\Users\\User\\PostDoc_Work\\GHG_Processing\\Parse_GHG.py:77\u001b[0m, in \u001b[0;36mread_GHG.Summarize_Data\u001b[1;34m(self, Data, means, diagnostics)\u001b[0m\n\u001b[0;32m     75\u001b[0m     \u001b[39mif\u001b[39;00m \u001b[39mlen\u001b[39m(data_Diagnostics\u001b[39m.\u001b[39mcolumns)\u001b[39m>\u001b[39m\u001b[39m2\u001b[39m:\n\u001b[0;32m     76\u001b[0m         \u001b[39mprint\u001b[39m(data_Diagnostics)\n\u001b[1;32m---> 77\u001b[0m     data_Diagnostics\u001b[39m.\u001b[39;49mcolumns\u001b[39m=\u001b[39m[\u001b[39m'\u001b[39m\u001b[39mAttribute\u001b[39m\u001b[39m'\u001b[39m,\u001b[39m'\u001b[39m\u001b[39mValue\u001b[39m\u001b[39m'\u001b[39m]\n\u001b[0;32m     78\u001b[0m     Data_Summary \u001b[39m=\u001b[39m pd\u001b[39m.\u001b[39mconcat(\n\u001b[0;32m     79\u001b[0m                         [Data_Summary,data_Diagnostics,Count],\n\u001b[0;32m     80\u001b[0m                         axis\u001b[39m=\u001b[39m\u001b[39m0\u001b[39m,\n\u001b[0;32m     81\u001b[0m                         ignore_index\u001b[39m=\u001b[39m\u001b[39mTrue\u001b[39;00m                            \n\u001b[0;32m     82\u001b[0m                         )\n\u001b[0;32m     83\u001b[0m \u001b[39mreturn\u001b[39;00m (Data_Summary)\n",
      "File \u001b[1;32mc:\\Users\\User\\PostDoc_Work\\GHG_Processing\\.venv\\lib\\site-packages\\pandas\\core\\generic.py:5915\u001b[0m, in \u001b[0;36mNDFrame.__setattr__\u001b[1;34m(self, name, value)\u001b[0m\n\u001b[0;32m   5913\u001b[0m \u001b[39mtry\u001b[39;00m:\n\u001b[0;32m   5914\u001b[0m     \u001b[39mobject\u001b[39m\u001b[39m.\u001b[39m\u001b[39m__getattribute__\u001b[39m(\u001b[39mself\u001b[39m, name)\n\u001b[1;32m-> 5915\u001b[0m     \u001b[39mreturn\u001b[39;00m \u001b[39mobject\u001b[39;49m\u001b[39m.\u001b[39;49m\u001b[39m__setattr__\u001b[39;49m(\u001b[39mself\u001b[39;49m, name, value)\n\u001b[0;32m   5916\u001b[0m \u001b[39mexcept\u001b[39;00m \u001b[39mAttributeError\u001b[39;00m:\n\u001b[0;32m   5917\u001b[0m     \u001b[39mpass\u001b[39;00m\n",
      "File \u001b[1;32mc:\\Users\\User\\PostDoc_Work\\GHG_Processing\\.venv\\lib\\site-packages\\pandas\\_libs\\properties.pyx:69\u001b[0m, in \u001b[0;36mpandas._libs.properties.AxisProperty.__set__\u001b[1;34m()\u001b[0m\n",
      "File \u001b[1;32mc:\\Users\\User\\PostDoc_Work\\GHG_Processing\\.venv\\lib\\site-packages\\pandas\\core\\generic.py:823\u001b[0m, in \u001b[0;36mNDFrame._set_axis\u001b[1;34m(self, axis, labels)\u001b[0m\n\u001b[0;32m    821\u001b[0m \u001b[39mdef\u001b[39;00m \u001b[39m_set_axis\u001b[39m(\u001b[39mself\u001b[39m, axis: \u001b[39mint\u001b[39m, labels: AnyArrayLike \u001b[39m|\u001b[39m \u001b[39mlist\u001b[39m) \u001b[39m-\u001b[39m\u001b[39m>\u001b[39m \u001b[39mNone\u001b[39;00m:\n\u001b[0;32m    822\u001b[0m     labels \u001b[39m=\u001b[39m ensure_index(labels)\n\u001b[1;32m--> 823\u001b[0m     \u001b[39mself\u001b[39;49m\u001b[39m.\u001b[39;49m_mgr\u001b[39m.\u001b[39;49mset_axis(axis, labels)\n\u001b[0;32m    824\u001b[0m     \u001b[39mself\u001b[39m\u001b[39m.\u001b[39m_clear_item_cache()\n",
      "File \u001b[1;32mc:\\Users\\User\\PostDoc_Work\\GHG_Processing\\.venv\\lib\\site-packages\\pandas\\core\\internals\\managers.py:230\u001b[0m, in \u001b[0;36mBaseBlockManager.set_axis\u001b[1;34m(self, axis, new_labels)\u001b[0m\n\u001b[0;32m    228\u001b[0m \u001b[39mdef\u001b[39;00m \u001b[39mset_axis\u001b[39m(\u001b[39mself\u001b[39m, axis: \u001b[39mint\u001b[39m, new_labels: Index) \u001b[39m-\u001b[39m\u001b[39m>\u001b[39m \u001b[39mNone\u001b[39;00m:\n\u001b[0;32m    229\u001b[0m     \u001b[39m# Caller is responsible for ensuring we have an Index object.\u001b[39;00m\n\u001b[1;32m--> 230\u001b[0m     \u001b[39mself\u001b[39;49m\u001b[39m.\u001b[39;49m_validate_set_axis(axis, new_labels)\n\u001b[0;32m    231\u001b[0m     \u001b[39mself\u001b[39m\u001b[39m.\u001b[39maxes[axis] \u001b[39m=\u001b[39m new_labels\n",
      "File \u001b[1;32mc:\\Users\\User\\PostDoc_Work\\GHG_Processing\\.venv\\lib\\site-packages\\pandas\\core\\internals\\base.py:70\u001b[0m, in \u001b[0;36mDataManager._validate_set_axis\u001b[1;34m(self, axis, new_labels)\u001b[0m\n\u001b[0;32m     67\u001b[0m     \u001b[39mpass\u001b[39;00m\n\u001b[0;32m     69\u001b[0m \u001b[39melif\u001b[39;00m new_len \u001b[39m!=\u001b[39m old_len:\n\u001b[1;32m---> 70\u001b[0m     \u001b[39mraise\u001b[39;00m \u001b[39mValueError\u001b[39;00m(\n\u001b[0;32m     71\u001b[0m         \u001b[39mf\u001b[39m\u001b[39m\"\u001b[39m\u001b[39mLength mismatch: Expected axis has \u001b[39m\u001b[39m{\u001b[39;00mold_len\u001b[39m}\u001b[39;00m\u001b[39m elements, new \u001b[39m\u001b[39m\"\u001b[39m\n\u001b[0;32m     72\u001b[0m         \u001b[39mf\u001b[39m\u001b[39m\"\u001b[39m\u001b[39mvalues have \u001b[39m\u001b[39m{\u001b[39;00mnew_len\u001b[39m}\u001b[39;00m\u001b[39m elements\u001b[39m\u001b[39m\"\u001b[39m\n\u001b[0;32m     73\u001b[0m     )\n",
      "\u001b[1;31mValueError\u001b[0m: Length mismatch: Expected axis has 3 elements, new values have 2 elements"
     ]
    }
   ],
   "source": [
    "import os\n",
    "import time\n",
    "import pandas as pd\n",
    "from Parse_GHG import read_GHG\n",
    "from ipywidgets import FloatProgress\n",
    "from IPython.display import display\n",
    "\n",
    "# Site = 'BB2'\n",
    "\n",
    "# Values we expect to change\n",
    "dynamicMetaData_Headers = ['altitude','canopy_height']\n",
    "\n",
    "# Values we want to fix\n",
    "staticMetaData_FloatHeaders = ['altitude', 'latitude', 'longitude']\n",
    "staticMetaData_TextHeaders = ['site_name']\n",
    "\n",
    "T1 = time.time()\n",
    "print('Processing ghg files ')\n",
    "f = FloatProgress(min=0, max=1) \n",
    "display(f) \n",
    "# Walk through the directory to find all \"raw\" folders\n",
    "\n",
    "N_recs = 4#8*31\n",
    "def find_new_GHG(Site,make_new=False):\n",
    "\n",
    "    i = 0\n",
    "    Dpath = 'C:\\\\highfreq\\\\'\n",
    "    raw_dir = Dpath+Site+'\\\\raw\\\\'\n",
    "    meta_dir = Dpath+Site+'\\\\metadata\\\\'\n",
    "    meta_file = meta_dir+'GHGMetaData.csv'\n",
    "\n",
    "    if os.path.isfile(meta_file) and make_new is False:\n",
    "        Records = pd.read_csv(meta_file,parse_dates=['TimeStamp'])\n",
    "        FileNames = Records['filename'].tolist()\n",
    "    else:\n",
    "        Records = pd.DataFrame()\n",
    "        FileNames = []\n",
    "        if not os.path.exists(meta_dir):\n",
    "            os.mkdir(meta_dir)\n",
    "    \n",
    "\n",
    "    for (root, dirs, files) in sorted(os.walk(raw_dir)):\n",
    "        # if root.__contains__('raw') :\n",
    "        for file in files:\n",
    "            name, tag = file.split('.')\n",
    "            # .ghg files are located at the end of each directory tree\n",
    "            # Avoids reading any that might be misplaced elsewhere\n",
    "            if tag == 'ghg' and len(dirs)==0 and file not in FileNames:  \n",
    "                \n",
    "                if i <= 48*5:\n",
    "                    GHG_out = read_GHG(root,name)\n",
    "                    Records = pd.concat(\n",
    "                        [Records,GHG_out.Summary],\n",
    "                    axis=0,\n",
    "                    ignore_index=True\n",
    "                    )\n",
    "                    i += 1\n",
    "            f.value = i/len(files)\n",
    "    return(Records,meta_dir,i)\n",
    "\n",
    "Records,meta_dir,i = find_new_GHG('BB')\n",
    "\n",
    "Records.to_csv(meta_dir+'GHGMetaData.csv',index=False)\n",
    "\n",
    "elapsed = time.time()-T1\n",
    "print('Processing time ', elapsed) \n",
    "print('To inspect ', i, ' .ghg files')\n",
    "print('Seconds/file ', elapsed/(i+1)) \n",
    "\n",
    "staticMetaData = Records[staticMetaData_FloatHeaders].astype(float).mean()\n",
    "staticMetaData = pd.concat([Records[staticMetaData_TextHeaders].astype(str).mode().T[0],staticMetaData])\n",
    "print(staticMetaData)\n",
    "\n",
    "dynamicMetaData = Records.set_index('TimeStamp')[dynamicMetaData_Headers]\n",
    "dynamicMetaData['date']=dynamicMetaData.index.date\n",
    "dynamicMetaData['time']=dynamicMetaData.index.time\n",
    "dynamicMetaData.to_csv(meta_dir+'dynamicMetaData.csv',index=False)\n",
    "dynamicMetaData\n",
    "\n",
    "# Processing time  65.87000775337219\n",
    "# To inspect  241  .ghg files\n",
    "\n",
    "Records['altitude'].astype(float).describe()\n"
   ]
  },
  {
   "cell_type": "code",
   "execution_count": null,
   "metadata": {},
   "outputs": [],
   "source": []
  }
 ],
 "metadata": {
  "kernelspec": {
   "display_name": ".venv",
   "language": "python",
   "name": "python3"
  },
  "language_info": {
   "codemirror_mode": {
    "name": "ipython",
    "version": 3
   },
   "file_extension": ".py",
   "mimetype": "text/x-python",
   "name": "python",
   "nbconvert_exporter": "python",
   "pygments_lexer": "ipython3",
   "version": "3.10.4"
  },
  "orig_nbformat": 4,
  "vscode": {
   "interpreter": {
    "hash": "ef0cd03416062db1397a6f4c064b2fd8fe41d0681561742315105bdf1dc915d9"
   }
  }
 },
 "nbformat": 4,
 "nbformat_minor": 2
}
