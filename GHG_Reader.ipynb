{
 "cells": [
  {
   "attachments": {},
   "cell_type": "markdown",
   "metadata": {},
   "source": [
    "## Read .ghg metadata"
   ]
  },
  {
   "cell_type": "code",
   "execution_count": 73,
   "metadata": {},
   "outputs": [
    {
     "ename": "ModuleNotFoundError",
     "evalue": "No module named 'py'",
     "output_type": "error",
     "traceback": [
      "\u001b[1;31m---------------------------------------------------------------------------\u001b[0m",
      "\u001b[1;31mModuleNotFoundError\u001b[0m                       Traceback (most recent call last)",
      "Cell \u001b[1;32mIn[73], line 6\u001b[0m\n\u001b[0;32m      4\u001b[0m \u001b[39mimport\u001b[39;00m \u001b[39mpandas\u001b[39;00m \u001b[39mas\u001b[39;00m \u001b[39mpd\u001b[39;00m\n\u001b[0;32m      5\u001b[0m \u001b[39mimport\u001b[39;00m \u001b[39mdatetime\u001b[39;00m \u001b[39mas\u001b[39;00m \u001b[39mdt\u001b[39;00m\n\u001b[1;32m----> 6\u001b[0m \u001b[39mimport\u001b[39;00m \u001b[39mpy\u001b[39;00m\n\u001b[0;32m      8\u001b[0m T1 \u001b[39m=\u001b[39m time\u001b[39m.\u001b[39mtime()\n\u001b[0;32m     11\u001b[0m \u001b[39mdef\u001b[39;00m \u001b[39mfind_all_GHG\u001b[39m(site):\n",
      "\u001b[1;31mModuleNotFoundError\u001b[0m: No module named 'py'"
     ]
    }
   ],
   "source": [
    "import os\n",
    "import time\n",
    "import numpy as np\n",
    "import pandas as pd\n",
    "import datetime as dt\n",
    "# import py\n",
    "\n",
    "T1 = time.time()\n",
    "\n",
    "\n",
    "def find_all_GHG(site):\n",
    "    raw_path = f'C:/highfreq/{site}/raw/'\n",
    "    all_files = []\n",
    "    all_paths = []\n",
    "\n",
    "    for (root, dir, files) in os.walk(raw_path):\n",
    "        if root != raw_path:\n",
    "            for file in files:\n",
    "                name, tag = file.split('.')\n",
    "                # .ghg files are located at the end of each directory tree\n",
    "                # Avoids reading any that might be misplaced elsewhere\n",
    "                if tag == 'ghg' and len(dir)==0:\n",
    "                    all_files.append(file)\n",
    "                    all_paths.append(root.replace(raw_path,''))\n",
    "\n",
    "    df = pd.DataFrame(data={\n",
    "            'filename':all_files,\n",
    "            'path':all_paths\n",
    "            })\n",
    "    \n",
    "    # df['datetime'] = pd.to_datetime(df['filename'].str.split('_').str[0])\n",
    "    # df['clean_tv'] = dt.datetime(1,1,1)# - df['datetime']\n",
    "    return (df)\n",
    "\n",
    "df = find_all_GHG('BB2')\n",
    "\n",
    "# print(time.time()-T1)\n",
    "\n",
    "# df = df.set_index('datetime')\n",
    "# # df.loc[]\n",
    "# df['Flag'] = 'O'\n",
    "# df.loc[((df.index.minute!=30)&(df.index.minute!=0)),'Flag'] = 'S'\n",
    "# flagged = df.loc[df['Flag']=='S']\n",
    "# flagged.index.date\n",
    "# flag_dates=pd.to_datetime(flagged.groupby(flagged.index.date).first().index)#.date\n",
    "# flag_dates\n",
    "\n",
    "\n",
    "# df = df.loc[df['Flag']!='S'].resample('30T').first()\n",
    "# df.loc[df['Flag']!='O']\n",
    "# df.loc[df['filename'] is None]\n",
    "df"
   ]
  },
  {
   "cell_type": "code",
   "execution_count": 36,
   "metadata": {},
   "outputs": [
    {
     "name": "stdout",
     "output_type": "stream",
     "text": [
      "['2019', '2020', '2021', '2022', '2023']\n",
      "2022-05-19T110000_AIU-1696.data.part\n",
      "['2019', '2020', '2021', '2022', '2023']\n",
      "2022-05-19T110000_AIU-1696.metadata.part\n",
      "['2019', '2020', '2021', '2022', '2023']\n",
      "2022-05-19T110000_AIU-1696.status.part\n",
      "['2019', '2020', '2021', '2022', '2023']\n",
      "ziHqk4m9\n",
      "['2019', '2020', '2021', '2022', '2023']\n",
      "ziKvbXad\n"
     ]
    }
   ],
   "source": [
    "for file in files:\n",
    "    try:\n",
    "        \n",
    "        name, tag = file.split('.')\n",
    "    except:\n",
    "        print(dir)\n",
    "        print(file)"
   ]
  },
  {
   "cell_type": "code",
   "execution_count": 12,
   "metadata": {},
   "outputs": [
    {
     "name": "stdout",
     "output_type": "stream",
     "text": [
      "Processing ghg files \n"
     ]
    },
    {
     "data": {
      "application/vnd.jupyter.widget-view+json": {
       "model_id": "bdec359cf3604fc297a585a1aafcde5a",
       "version_major": 2,
       "version_minor": 0
      },
      "text/plain": [
       "FloatProgress(value=0.0, max=1.0)"
      ]
     },
     "metadata": {},
     "output_type": "display_data"
    },
    {
     "name": "stdout",
     "output_type": "stream",
     "text": [
      "Processing time  1.290328025817871\n",
      "To inspect  3  .ghg files\n",
      "Seconds/file  0.3225820064544678\n",
      "site_name    BurnsBog2018\n",
      "altitude             -3.8\n",
      "latitude        49.129353\n",
      "longitude     -122.984885\n",
      "dtype: object\n"
     ]
    },
    {
     "data": {
      "text/plain": [
       "count    6.000000\n",
       "mean    -3.800000\n",
       "std      3.935988\n",
       "min     -7.400000\n",
       "25%     -7.225000\n",
       "50%     -4.800000\n",
       "75%     -0.125000\n",
       "max      0.800000\n",
       "Name: altitude, dtype: float64"
      ]
     },
     "execution_count": 12,
     "metadata": {},
     "output_type": "execute_result"
    }
   ],
   "source": [
    "import os\n",
    "import time\n",
    "import pandas as pd\n",
    "from Parse_GHG import read_GHG\n",
    "from ipywidgets import FloatProgress\n",
    "from IPython.display import display\n",
    "\n",
    "# Site = 'BB2'\n",
    "\n",
    "# Values we expect to change\n",
    "dynamicMetaData_Headers = ['altitude','canopy_height']\n",
    "\n",
    "# Values we want to fix\n",
    "staticMetaData_FloatHeaders = ['altitude', 'latitude', 'longitude']\n",
    "staticMetaData_TextHeaders = ['site_name']\n",
    "\n",
    "T1 = time.time()\n",
    "print('Processing ghg files ')\n",
    "f = FloatProgress(min=0, max=1) \n",
    "display(f) \n",
    "# Walk through the directory to find all \"raw\" folders\n",
    "\n",
    "N_recs = 4#8*31\n",
    "def find_new_GHG(Site,make_new=False):\n",
    "\n",
    "    i = 0\n",
    "    Dpath = 'C:\\\\highfreq\\\\'\n",
    "    raw_dir = Dpath+Site+'\\\\raw\\\\'\n",
    "    meta_dir = Dpath+Site+'\\\\metadata\\\\'\n",
    "    meta_file = meta_dir+'GHGMetaData.csv'\n",
    "    channel_file = meta_dir+'EP_Channels.csv'\n",
    "\n",
    "    if os.path.isfile(meta_file) and make_new is False:\n",
    "        Records = pd.read_csv(meta_file,parse_dates=['TimeStamp'])\n",
    "        Channels = pd.read_csv(channel_file)#,parse_dates=['TimeStamp'])\n",
    "        FileNames = Records['filename'].tolist()\n",
    "    else:\n",
    "        Records = pd.DataFrame()\n",
    "        Channels = pd.DataFrame()\n",
    "        FileNames = []\n",
    "        if not os.path.exists(meta_dir):\n",
    "            os.mkdir(meta_dir)\n",
    "    \n",
    "\n",
    "    for (root, dirs, files) in sorted(os.walk(raw_dir)):\n",
    "        # if root.__contains__('raw') :\n",
    "        for file in files:\n",
    "            name, tag = file.split('.')\n",
    "            # .ghg files are located at the end of each directory tree\n",
    "            # Avoids reading any that might be misplaced elsewhere\n",
    "            if tag == 'ghg' and len(dirs)==0 and file not in FileNames:  \n",
    "                \n",
    "                # if i <= 48*5:\n",
    "                if i <= 2:\n",
    "                    GHG_out = read_GHG(root,name)\n",
    "                    Records = pd.concat(\n",
    "                        [Records,GHG_out.Summary],\n",
    "                        axis=0,\n",
    "                        ignore_index=True\n",
    "                    )\n",
    "                    Channels = pd.concat(\n",
    "                        [Channels,GHG_out.Channels],\n",
    "                        axis=0,\n",
    "                        ignore_index=True\n",
    "                    )\n",
    "                    i += 1\n",
    "            f.value = i/len(files)\n",
    "    return(Records,Channels,meta_dir,i)\n",
    "\n",
    "Records,Channels,meta_dir,i = find_new_GHG('BB',make_new=False)\n",
    "\n",
    "Records.to_csv(meta_dir+'GHGMetaData.csv',index=False)\n",
    "Channels.to_csv(meta_dir+'EP_Channels.csv',index=False)\n",
    "\n",
    "elapsed = time.time()-T1\n",
    "print('Processing time ', elapsed) \n",
    "print('To inspect ', i, ' .ghg files')\n",
    "print('Seconds/file ', elapsed/(i+1)) \n",
    "\n",
    "staticMetaData = Records[staticMetaData_FloatHeaders].astype(float).mean()\n",
    "staticMetaData = pd.concat([Records[staticMetaData_TextHeaders].astype(str).mode().T[0],staticMetaData])\n",
    "print(staticMetaData)\n",
    "\n",
    "dynamicMetaData = Records.set_index('TimeStamp')[dynamicMetaData_Headers]\n",
    "dynamicMetaData['date']=dynamicMetaData.index.date\n",
    "dynamicMetaData['time']=dynamicMetaData.index.time\n",
    "dynamicMetaData.to_csv(meta_dir+'dynamicMetaData.csv',index=False)\n",
    "dynamicMetaData\n",
    "\n",
    "# Processing time  65.87000775337219\n",
    "# To inspect  241  .ghg files\n",
    "\n",
    "Records['altitude'].astype(float).describe()\n"
   ]
  },
  {
   "cell_type": "code",
   "execution_count": 20,
   "metadata": {},
   "outputs": [
    {
     "data": {
      "text/plain": [
       "Index([], dtype='object', name='filename')"
      ]
     },
     "execution_count": 20,
     "metadata": {},
     "output_type": "execute_result"
    }
   ],
   "source": [
    "# Channels = Channels.set_index('filename')\n",
    "Channels.loc[(Channels.diff()).sum(axis=1)!=0].index\n",
    "\n",
    "\n",
    "# Channels[(Channels.diff()!=0).sum(axis=0)]\n",
    "# Channels.diff()f"
   ]
  },
  {
   "cell_type": "code",
   "execution_count": 72,
   "metadata": {},
   "outputs": [
    {
     "name": "stdout",
     "output_type": "stream",
     "text": [
      "(17520,)\n",
      "17520\n",
      "[738522.02083333 738522.04166667 738522.0625     ... 738886.95833333\n",
      " 738886.97916667 738887.        ]\n"
     ]
    },
    {
     "data": {
      "text/plain": [
       "DatetimeIndex(['2022-01-01 00:30:00', '2022-01-01 01:00:00',\n",
       "               '2022-01-01 01:30:00', '2022-01-01 02:00:00',\n",
       "               '2022-01-01 02:30:00', '2022-01-01 03:00:00',\n",
       "               '2022-01-01 03:30:00', '2022-01-01 04:00:00',\n",
       "               '2022-01-01 04:30:00', '2022-01-01 05:00:00',\n",
       "               ...\n",
       "               '2022-12-31 19:30:00', '2022-12-31 20:00:00',\n",
       "               '2022-12-31 20:30:00', '2022-12-31 21:00:00',\n",
       "               '2022-12-31 21:30:00', '2022-12-31 22:00:00',\n",
       "               '2022-12-31 22:30:00', '2022-12-31 23:00:00',\n",
       "               '2022-12-31 23:30:00', '2023-01-01 00:00:00'],\n",
       "              dtype='datetime64[ns]', length=17520, freq=None)"
      ]
     },
     "execution_count": 72,
     "metadata": {},
     "output_type": "execute_result"
    }
   ],
   "source": [
    "import os\n",
    "# import struct\n",
    "import numpy as np\n",
    "import pandas as pd\n",
    "# print(os.cwd)\n",
    "\n",
    "os.getcwd()\n",
    "\n",
    "Dir = 'W:\\\\2022\\\\BB\\\\Flux\\\\'\n",
    "\n",
    "Trace = 'co2_mean'\n",
    "Time = 'clean_tv'\n",
    "\n",
    "data_file = Dir + Trace\n",
    "time_file = Dir + Time\n",
    "\n",
    "# with open(filename, mode='rb') as file:\n",
    "    # if Trace == 'clean_tv':\n",
    "Time = np.fromfile(open(time_file, mode='rb'), 'float64')\n",
    "    # else:\n",
    "Var = np.fromfile(open(data_file, mode='rb'), 'float32')\n",
    "# # print(Var.shape,Time.shape)\n",
    "\n",
    "# df = pd.DataFrame(data = {\n",
    "#     'Timestamp':Time,\n",
    "#     'Var':Var\n",
    "# })\n",
    "\n",
    "print(Var.shape)\n",
    "print(2*24*365)\n",
    "\n",
    "# print(Time.shape)\n",
    "# Time = Time.reshape(-1,2)\n",
    "# Time\n",
    "# pd.to_datetime(Time,unit='s')\n",
    "\n",
    "    \n",
    "#     Data = np.array(struct.unpack(\"i\" * ((len(fileContent) -24) // 4), fileContent[20:-4]))\n",
    "\n",
    "print(Time)\n",
    "# 738522.02083333\n",
    "# Matlab Epoch Base ('0-1-0')\n",
    "base_time = 719529#.000001\n",
    "pd.to_datetime(Time-base_time,unit='D').round('s')"
   ]
  },
  {
   "cell_type": "code",
   "execution_count": 93,
   "metadata": {},
   "outputs": [
    {
     "data": {
      "text/plain": [
       "2460026.1590252155"
      ]
     },
     "execution_count": 93,
     "metadata": {},
     "output_type": "execute_result"
    }
   ],
   "source": []
  }
 ],
 "metadata": {
  "kernelspec": {
   "display_name": ".venv",
   "language": "python",
   "name": "python3"
  },
  "language_info": {
   "codemirror_mode": {
    "name": "ipython",
    "version": 3
   },
   "file_extension": ".py",
   "mimetype": "text/x-python",
   "name": "python",
   "nbconvert_exporter": "python",
   "pygments_lexer": "ipython3",
   "version": "3.10.4"
  },
  "orig_nbformat": 4,
  "vscode": {
   "interpreter": {
    "hash": "ef0cd03416062db1397a6f4c064b2fd8fe41d0681561742315105bdf1dc915d9"
   }
  }
 },
 "nbformat": 4,
 "nbformat_minor": 2
}
