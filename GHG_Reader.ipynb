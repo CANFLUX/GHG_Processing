{
 "cells": [
  {
   "attachments": {},
   "cell_type": "markdown",
   "metadata": {},
   "source": [
    "## Read .ghg metadata"
   ]
  },
  {
   "cell_type": "code",
   "execution_count": 146,
   "metadata": {},
   "outputs": [
    {
     "name": "stdout",
     "output_type": "stream",
     "text": [
      "14.970923900604248\n"
     ]
    }
   ],
   "source": [
    "import os\n",
    "import time\n",
    "import pandas as pd\n",
    "import Parser\n",
    "import importlib\n",
    "importlib.reload(Parser)\n",
    "from ipywidgets import FloatProgress\n",
    "from IPython.display import display\n",
    "\n",
    "RG = Parser.read_GHG('Variable_defs.ini','BB',2022)\n",
    "# RG.find_ghg()\n",
    "T1 = time.time()\n",
    "RG.Read(reset=False)\n",
    "print(time.time()-T1)\n"
   ]
  },
  {
   "cell_type": "code",
   "execution_count": 155,
   "metadata": {},
   "outputs": [
    {
     "data": {
      "text/plain": [
       "ValuesView(<Section: DEFAULT>)"
      ]
     },
     "execution_count": 155,
     "metadata": {},
     "output_type": "execute_result"
    }
   ],
   "source": [
    "# for k in RL.co2app_ini.keys():\n",
    "    # print(k)\n",
    "\n",
    "\n",
    "\n",
    "dict(RG.read_co2app.parsedConfig['coef'])['DEFAULT']"
   ]
  },
  {
   "cell_type": "code",
   "execution_count": 159,
   "metadata": {},
   "outputs": [
    {
     "name": "stdout",
     "output_type": "stream",
     "text": [
      "{'ZeroCO2': {'val': '1.17283', 'date': 'Jun 24 2021 at 10:49:24'}, 'SpanCO2': {'val': '1.01698', 'target': '441.84', 'tdensity': '17.9032', 'date': 'Jun 24 2021 at 11:06:04'}, 'Span2CO2': {'val': '0.0000', 'target': '', 'tdensity': '', 'ic': '0.127441', 'act': '0.125314', 'date': '4Cal'}, 'ZeroH2O': {'val': '0.989299', 'date': 'Jun 24 2021 at 10:48:41'}, 'SpanH2O': {'val': '1.02615', 'target': '12', 'tdensity': '569.034', 'date': 'Feb 7 2020 at 15:00:18'}, 'Span2H2O': {'val': '0.0000', 'target': '', 'tdensity': '', 'iw': '0.0626465', 'awt': '0.0609231', 'date': '4Cal'}, 'MaxRef': {'cx': '37094.0', 'wx': '48244.5', 'date': '23 03 2016 04:07'}}\n"
     ]
    }
   ],
   "source": [
    "\n",
    "RL = Parser.read_LI_Config('Variable_defs.ini')\n",
    "test = open('G:\\\\.shortcut-targets-by-id\\\\1txCh9lZ7VGCujXGvBaJCMVnuxT-65q4K\\\\Micromet Lab\\\\Projects\\\\2014-BB1 Burns Bog\\\\Flux-tower\\\\Calibrations\\\\LI-7200\\\\SN0816/20210624_configuration_after_calibration.l7x').read()\n",
    "RL.parse(test)\n",
    "config = RL.parsedConfig['calibrate']\n",
    "print({section: dict(config[section]) for section in config.sections()})\n"
   ]
  },
  {
   "cell_type": "code",
   "execution_count": 10,
   "metadata": {},
   "outputs": [
    {
     "name": "stdout",
     "output_type": "stream",
     "text": [
      "site\n",
      "station\n",
      "timing\n",
      "instruments\n",
      "filedescription\n"
     ]
    }
   ],
   "source": [
    "# for k in RG.ini['METADATA'].keys():\n",
    "#     print(k)\n"
   ]
  },
  {
   "cell_type": "markdown",
   "metadata": {},
   "source": []
  },
  {
   "cell_type": "code",
   "execution_count": 72,
   "metadata": {},
   "outputs": [
    {
     "name": "stdout",
     "output_type": "stream",
     "text": [
      "(17520,)\n",
      "17520\n",
      "[738522.02083333 738522.04166667 738522.0625     ... 738886.95833333\n",
      " 738886.97916667 738887.        ]\n"
     ]
    },
    {
     "data": {
      "text/plain": [
       "DatetimeIndex(['2022-01-01 00:30:00', '2022-01-01 01:00:00',\n",
       "               '2022-01-01 01:30:00', '2022-01-01 02:00:00',\n",
       "               '2022-01-01 02:30:00', '2022-01-01 03:00:00',\n",
       "               '2022-01-01 03:30:00', '2022-01-01 04:00:00',\n",
       "               '2022-01-01 04:30:00', '2022-01-01 05:00:00',\n",
       "               ...\n",
       "               '2022-12-31 19:30:00', '2022-12-31 20:00:00',\n",
       "               '2022-12-31 20:30:00', '2022-12-31 21:00:00',\n",
       "               '2022-12-31 21:30:00', '2022-12-31 22:00:00',\n",
       "               '2022-12-31 22:30:00', '2022-12-31 23:00:00',\n",
       "               '2022-12-31 23:30:00', '2023-01-01 00:00:00'],\n",
       "              dtype='datetime64[ns]', length=17520, freq=None)"
      ]
     },
     "execution_count": 72,
     "metadata": {},
     "output_type": "execute_result"
    }
   ],
   "source": [
    "import os\n",
    "# import struct\n",
    "import numpy as np\n",
    "import pandas as pd\n",
    "# print(os.cwd)\n",
    "\n",
    "os.getcwd()\n",
    "\n",
    "Dir = 'W:\\\\2022\\\\BB\\\\Flux\\\\'\n",
    "\n",
    "Trace = 'co2_mean'\n",
    "Time = 'clean_tv'\n",
    "\n",
    "data_file = Dir + Trace\n",
    "time_file = Dir + Time\n",
    "\n",
    "# with open(filename, mode='rb') as file:\n",
    "    # if Trace == 'clean_tv':\n",
    "Time = np.fromfile(open(time_file, mode='rb'), 'float64')\n",
    "    # else:\n",
    "Var = np.fromfile(open(data_file, mode='rb'), 'float32')\n",
    "# # print(Var.shape,Time.shape)\n",
    "\n",
    "# df = pd.DataFrame(data = {\n",
    "#     'Timestamp':Time,\n",
    "#     'Var':Var\n",
    "# })\n",
    "\n",
    "print(Var.shape)\n",
    "print(2*24*365)\n",
    "\n",
    "# print(Time.shape)\n",
    "# Time = Time.reshape(-1,2)\n",
    "# Time\n",
    "# pd.to_datetime(Time,unit='s')\n",
    "\n",
    "    \n",
    "#     Data = np.array(struct.unpack(\"i\" * ((len(fileContent) -24) // 4), fileContent[20:-4]))\n",
    "\n",
    "print(Time)\n",
    "# 738522.02083333\n",
    "# Matlab Epoch Base ('0-1-0')\n",
    "base_time = 719529#.000001\n",
    "pd.to_datetime(Time-base_time,unit='D').round('s')"
   ]
  },
  {
   "cell_type": "code",
   "execution_count": 124,
   "metadata": {},
   "outputs": [],
   "source": [
    "import re\n",
    "def makeConfig(string,pnt=False):\n",
    "    all = re.findall(r'\\((.+?)\\)',string)\n",
    "    formatted =''\n",
    "    for i,v in enumerate(all):\n",
    "        \n",
    "        if '(' in v:\n",
    "            # if i != 0:\n",
    "            #     formatted += '\\n'\n",
    "            tags = v.split('(')[:-1]\n",
    "            for t in tags:\n",
    "                # formatted += '\\n'\n",
    "                formatted += '\\n['+t.replace(' ','')+']\\n'\n",
    "            formatted += v.split('(')[-1].replace(' ','=',1)\n",
    "            # pass\n",
    "        else:\n",
    "            if ' ' not in v:\n",
    "                formatted += '\\n'+v+'='\n",
    "            else:\n",
    "                formatted += '\\n'+v.replace(' ','=',1)\n",
    "    # if pnt == True:\n",
    "    #     print(formatted)\n",
    "    config = configparser.ConfigParser()\n",
    "    config.read_string(formatted)\n",
    "    # for k in (config.keys()):\n",
    "    #     print(k)"
   ]
  },
  {
   "cell_type": "code",
   "execution_count": 134,
   "metadata": {},
   "outputs": [
    {
     "name": "stdout",
     "output_type": "stream",
     "text": [
      "DEFAULT\n",
      "Pressure\n",
      "Temperature\n",
      "Aux\n",
      "Aux2\n",
      "Aux3\n",
      "Aux4\n",
      "DEFAULT\n",
      "Current\n",
      "Band\n",
      "MaxRef\n",
      "CO2\n",
      "H2O\n",
      "Pressure\n",
      "DPressure\n"
     ]
    }
   ],
   "source": [
    "\n",
    "co2app = open('Example_Files\\\\BB\\\\2022-08-01T010000_LI-7200\\\\system_config\\\\co2app.conf').read()\n",
    "# # Coefs = co2app.split('Coef')[-1]\n",
    "# Calibration = co2app.split('Calibrate')[-1]\n",
    "Calibration = co2app.split('Calibrate')[-1].split('Coef')[0]\n",
    "Coefs = co2app.split('Coef')[-1].split('Clock')[0][:-1]\n",
    "Sonic = co2app.split('Inputs')[-1].split('Calibrate')[0]\n",
    "\n",
    "makeConfig(Sonic)\n",
    "\n",
    "\n",
    "co2app = open('G:\\\\.shortcut-targets-by-id\\\\1txCh9lZ7VGCujXGvBaJCMVnuxT-65q4K\\\\Micromet Lab\\\\Projects\\\\2014-BB1 Burns Bog\\\\Flux-tower\\\\Calibrations\\\\LI-7200\\\\SN0816/20210624_configuration_after_calibration.l7x').read()\n",
    "# Coefs = co2app.split('Coef')[-1]\n",
    "Calibration = co2app.split('Calibrate')[-1].split('Coef')[0]\n",
    "Coefs = co2app.split('Coef')[-1].split('Outputs')[0][:-1]\n",
    "Sonic = co2app.split('Inputs')[-1].split('Outputs')[0]\n",
    "makeConfig(Coefs)\n",
    "\n",
    "\n",
    "# Calibration"
   ]
  },
  {
   "cell_type": "code",
   "execution_count": 44,
   "metadata": {},
   "outputs": [
    {
     "name": "stdout",
     "output_type": "stream",
     "text": [
      "Current serialno\n",
      "72H-0816\n",
      "Band a\n",
      "1.15\n",
      "MaxRef a\n",
      "0.4\n",
      "MaxRef b\n",
      "0.050\n",
      "MaxRef c\n",
      "0.051\n",
      "MaxRef d\n",
      "0.6\n",
      "MaxRef x0\n",
      "0.0\n",
      "CO2 a\n",
      "1.05790E+2\n",
      "CO2 b\n",
      "1.85532E+4\n",
      "CO2 c\n",
      "8.28945E+6\n",
      "CO2 d\n",
      "-1.15799E+9\n",
      "CO2 e\n",
      "1.00378E+11\n",
      "CO2 xs\n",
      "0.0028\n",
      "CO2 z\n",
      "3.84E-05\n",
      "CO2 sd1\n",
      "3.230E-2\n",
      "CO2 sd2\n",
      "-6.330E-2\n",
      "CO2 sd3\n",
      "2.085E+0\n",
      "H2O a\n",
      "5.59192E+3\n",
      "H2O b\n",
      "5.95452E+6\n",
      "H2O c\n",
      "-5.74709E+8\n",
      "H2O xs\n",
      "-0.0012\n",
      "H2O z\n",
      "-1.96E-04\n",
      "H2O sd1\n",
      "1.910E-2\n",
      "H2O sd2\n",
      "1.323E+0\n",
      "H2O sd3\n",
      "2.385E+0\n",
      "Pressure a0\n",
      "57.704\n",
      "Pressure a1\n",
      "15.424\n",
      "DPressure a0\n",
      "0.000\n",
      "DPressure a1\n",
      "1.000\n"
     ]
    }
   ],
   "source": [
    "\n",
    "for key in config.keys():\n",
    "    # print(config[key])\n",
    "    for k in config[key].keys():\n",
    "        print(key,k)\n",
    "        print(config[key][k])"
   ]
  }
 ],
 "metadata": {
  "kernelspec": {
   "display_name": ".venv",
   "language": "python",
   "name": "python3"
  },
  "language_info": {
   "codemirror_mode": {
    "name": "ipython",
    "version": 3
   },
   "file_extension": ".py",
   "mimetype": "text/x-python",
   "name": "python",
   "nbconvert_exporter": "python",
   "pygments_lexer": "ipython3",
   "version": "3.10.4"
  },
  "orig_nbformat": 4,
  "vscode": {
   "interpreter": {
    "hash": "ef0cd03416062db1397a6f4c064b2fd8fe41d0681561742315105bdf1dc915d9"
   }
  }
 },
 "nbformat": 4,
 "nbformat_minor": 2
}
