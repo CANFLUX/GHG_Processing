{
 "cells": [
  {
   "attachments": {},
   "cell_type": "markdown",
   "metadata": {},
   "source": [
    "## Read .ghg metadata"
   ]
  },
  {
   "cell_type": "code",
   "execution_count": 42,
   "metadata": {},
   "outputs": [
    {
     "name": "stdout",
     "output_type": "stream",
     "text": [
      "Processing ghg files \n"
     ]
    },
    {
     "data": {
      "application/vnd.jupyter.widget-view+json": {
       "model_id": "56e5a978a8674094804cc28ba32c2b68",
       "version_major": 2,
       "version_minor": 0
      },
      "text/plain": [
       "FloatProgress(value=0.0, max=1.0)"
      ]
     },
     "metadata": {},
     "output_type": "display_data"
    },
    {
     "name": "stdout",
     "output_type": "stream",
     "text": [
      "Processing time  2.16691517829895\n",
      "To inspect  6  .ghg files\n",
      "Attribute\n",
      "site_name     Burns Bog\n",
      "altitude      10.166667\n",
      "latitude      49.119003\n",
      "longitude   -122.995094\n",
      "dtype: object\n"
     ]
    },
    {
     "data": {
      "text/html": [
       "<div>\n",
       "<style scoped>\n",
       "    .dataframe tbody tr th:only-of-type {\n",
       "        vertical-align: middle;\n",
       "    }\n",
       "\n",
       "    .dataframe tbody tr th {\n",
       "        vertical-align: top;\n",
       "    }\n",
       "\n",
       "    .dataframe thead th {\n",
       "        text-align: right;\n",
       "    }\n",
       "</style>\n",
       "<table border=\"1\" class=\"dataframe\">\n",
       "  <thead>\n",
       "    <tr style=\"text-align: right;\">\n",
       "      <th>Attribute</th>\n",
       "      <th>altitude</th>\n",
       "      <th>canopy_height</th>\n",
       "      <th>date</th>\n",
       "      <th>time</th>\n",
       "    </tr>\n",
       "    <tr>\n",
       "      <th>TimeStamp</th>\n",
       "      <th></th>\n",
       "      <th></th>\n",
       "      <th></th>\n",
       "      <th></th>\n",
       "    </tr>\n",
       "  </thead>\n",
       "  <tbody>\n",
       "    <tr>\n",
       "      <th>2022-05-19 11:35:30</th>\n",
       "      <td>4.6</td>\n",
       "      <td>0.65</td>\n",
       "      <td>2022-05-19</td>\n",
       "      <td>11:35:30</td>\n",
       "    </tr>\n",
       "    <tr>\n",
       "      <th>2022-05-19 12:00:00</th>\n",
       "      <td>4.6</td>\n",
       "      <td>0.65</td>\n",
       "      <td>2022-05-19</td>\n",
       "      <td>12:00:00</td>\n",
       "    </tr>\n",
       "    <tr>\n",
       "      <th>2022-05-19 12:30:00</th>\n",
       "      <td>8.3</td>\n",
       "      <td>0.65</td>\n",
       "      <td>2022-05-19</td>\n",
       "      <td>12:30:00</td>\n",
       "    </tr>\n",
       "    <tr>\n",
       "      <th>2022-05-19 13:00:00</th>\n",
       "      <td>8.3</td>\n",
       "      <td>0.65</td>\n",
       "      <td>2022-05-19</td>\n",
       "      <td>13:00:00</td>\n",
       "    </tr>\n",
       "    <tr>\n",
       "      <th>2022-05-19 13:30:00</th>\n",
       "      <td>17.6</td>\n",
       "      <td>0.65</td>\n",
       "      <td>2022-05-19</td>\n",
       "      <td>13:30:00</td>\n",
       "    </tr>\n",
       "    <tr>\n",
       "      <th>2022-05-19 14:00:00</th>\n",
       "      <td>17.6</td>\n",
       "      <td>0.65</td>\n",
       "      <td>2022-05-19</td>\n",
       "      <td>14:00:00</td>\n",
       "    </tr>\n",
       "  </tbody>\n",
       "</table>\n",
       "</div>"
      ],
      "text/plain": [
       "Attribute           altitude canopy_height        date      time\n",
       "TimeStamp                                                       \n",
       "2022-05-19 11:35:30      4.6          0.65  2022-05-19  11:35:30\n",
       "2022-05-19 12:00:00      4.6          0.65  2022-05-19  12:00:00\n",
       "2022-05-19 12:30:00      8.3          0.65  2022-05-19  12:30:00\n",
       "2022-05-19 13:00:00      8.3          0.65  2022-05-19  13:00:00\n",
       "2022-05-19 13:30:00     17.6          0.65  2022-05-19  13:30:00\n",
       "2022-05-19 14:00:00     17.6          0.65  2022-05-19  14:00:00"
      ]
     },
     "execution_count": 42,
     "metadata": {},
     "output_type": "execute_result"
    }
   ],
   "source": [
    "import os\n",
    "import time\n",
    "import pandas as pd\n",
    "from Parse_GHG import read_GHG\n",
    "from ipywidgets import FloatProgress\n",
    "from IPython.display import display\n",
    "\n",
    "Dpath = 'C:\\\\highfreq\\\\'\n",
    "Site = 'BB2'\n",
    "raw_dir = Dpath+Site+'\\\\raw\\\\'\n",
    "meta_dir = Dpath+Site+'\\\\metadata\\\\'\n",
    "\n",
    "# Values we expect to change\n",
    "dynamicMetaData_Headers = ['altitude','canopy_height']\n",
    "\n",
    "# Values we want to fix\n",
    "staticMetaData_FloatHeaders = ['altitude', 'latitude', 'longitude']\n",
    "staticMetaData_TextHeaders = ['site_name']\n",
    "\n",
    "T1 = time.time()\n",
    "i = 0\n",
    "print('Processing ghg files ')\n",
    "f = FloatProgress(min=0, max=1) \n",
    "display(f) \n",
    "# Walk through the directory to find all \"raw\" folders\n",
    "for (root, dirs, files) in sorted(os.walk(raw_dir)):\n",
    "    # if root.__contains__('raw') :\n",
    "    for file in files:\n",
    "        name, tag = file.split('.')\n",
    "         # .ghg files are located at the end of each directory tree\n",
    "         # Avoids reading any that might be misplaced elsewhere\n",
    "        if tag == 'ghg' and len(dirs)==0:  \n",
    "            # read info in .ghg files and add to a dataframe\n",
    "            if i == 0:\n",
    "                GHG_out = read_GHG(root,name)\n",
    "                Records = GHG_out.Summary.copy()\n",
    "                config_template = GHG_out.config   \n",
    "                i += 1\n",
    "            elif i <= 5:#48*3:\n",
    "                GHG_out = read_GHG(root,name)\n",
    "                Records = pd.concat(\n",
    "                    [Records,GHG_out.Summary],\n",
    "                axis=0,\n",
    "                ignore_index=True\n",
    "                )\n",
    "                i += 1\n",
    "        f.value = i/len(files)\n",
    "\n",
    "print('Processing time ', time.time()-T1) \n",
    "print('To inspect ', i, ' .ghg files')\n",
    "\n",
    "staticMetaData = Records[staticMetaData_FloatHeaders].astype(float).mean()\n",
    "staticMetaData = pd.concat([Records[staticMetaData_TextHeaders].astype(str).mode().T[0],staticMetaData])\n",
    "print(staticMetaData)\n",
    "\n",
    "dynamicMetaData = Records.set_index('TimeStamp')[dynamicMetaData_Headers]\n",
    "dynamicMetaData['date']=dynamicMetaData.index.date\n",
    "dynamicMetaData['time']=dynamicMetaData.index.time\n",
    "dynamicMetaData.to_csv(meta_dir+'dynamicMetaData.csv',index=False)\n",
    "dynamicMetaData\n"
   ]
  }
 ],
 "metadata": {
  "kernelspec": {
   "display_name": ".venv",
   "language": "python",
   "name": "python3"
  },
  "language_info": {
   "codemirror_mode": {
    "name": "ipython",
    "version": 3
   },
   "file_extension": ".py",
   "mimetype": "text/x-python",
   "name": "python",
   "nbconvert_exporter": "python",
   "pygments_lexer": "ipython3",
   "version": "3.10.4"
  },
  "orig_nbformat": 4,
  "vscode": {
   "interpreter": {
    "hash": "ef0cd03416062db1397a6f4c064b2fd8fe41d0681561742315105bdf1dc915d9"
   }
  }
 },
 "nbformat": 4,
 "nbformat_minor": 2
}
