{
 "cells": [
  {
   "attachments": {},
   "cell_type": "markdown",
   "metadata": {},
   "source": [
    "## Read .ghg metadata"
   ]
  },
  {
   "cell_type": "code",
   "execution_count": 40,
   "metadata": {},
   "outputs": [
    {
     "name": "stdout",
     "output_type": "stream",
     "text": [
      "DEFAULT\n",
      "DATA\n",
      "STATUS\n",
      "DEFAULT\n",
      "DATA\n",
      "STATUS\n",
      "DEFAULT\n",
      "DATA\n",
      "STATUS\n",
      "DEFAULT\n",
      "DATA\n",
      "STATUS\n",
      "DEFAULT\n",
      "DATA\n",
      "STATUS\n",
      "DEFAULT\n",
      "DATA\n",
      "STATUS\n",
      "2.470813274383545\n"
     ]
    }
   ],
   "source": [
    "import os\n",
    "import time\n",
    "import pandas as pd\n",
    "import configparser\n",
    "import Parser\n",
    "import importlib\n",
    "importlib.reload(Parser)\n",
    "from ipywidgets import FloatProgress\n",
    "from IPython.display import display\n",
    "\n",
    "RG = Parser.read_GHG('Variable_defs.ini','BB',2022)\n",
    "RG.find_ghg()\n",
    "T1 = time.time()\n",
    "RG.Read(reset=True)\n",
    "print(time.time()-T1)"
   ]
  },
  {
   "cell_type": "code",
   "execution_count": 37,
   "metadata": {},
   "outputs": [
    {
     "name": "stdout",
     "output_type": "stream",
     "text": [
      "DEFAULT\n",
      "DATA\n",
      "LI-7200 Enclosed CO2/H2O Analyzer\n",
      "72H-0816\n",
      "LI-7200\n",
      "2\n",
      "8.9.0\n",
      "08:00:00\n",
      "Etc/GMT+8\n",
      "STATUS\n",
      "LI-7700\n",
      "TG1-0452\n",
      "TG1-0452\n",
      "2\n",
      "1.0.29\n",
      "08:00:00\n",
      "Etc/GMT+8\n"
     ]
    }
   ],
   "source": [
    "for key in RG.Headerdata.keys():\n",
    "    print(key)\n",
    "    for k in RG.Headerdata[key].keys():\n",
    "        print(RG.Headerdata[key][k])"
   ]
  },
  {
   "cell_type": "code",
   "execution_count": 4,
   "metadata": {},
   "outputs": [
    {
     "data": {
      "text/plain": [
       "(11, 23)"
      ]
     },
     "execution_count": 4,
     "metadata": {},
     "output_type": "execute_result"
    }
   ],
   "source": [
    "\n",
    "RG.Records.shape"
   ]
  },
  {
   "cell_type": "code",
   "execution_count": 10,
   "metadata": {},
   "outputs": [
    {
     "name": "stdout",
     "output_type": "stream",
     "text": [
      "site\n",
      "station\n",
      "timing\n",
      "instruments\n",
      "filedescription\n"
     ]
    }
   ],
   "source": [
    "for k in RG.ini['METADATA'].keys():\n",
    "    print(k)"
   ]
  },
  {
   "cell_type": "code",
   "execution_count": 5,
   "metadata": {},
   "outputs": [
    {
     "name": "stdout",
     "output_type": "stream",
     "text": [
      "Processing ghg files \n"
     ]
    },
    {
     "data": {
      "application/vnd.jupyter.widget-view+json": {
       "model_id": "301550735ea74c5596156857097c7027",
       "version_major": 2,
       "version_minor": 0
      },
      "text/plain": [
       "FloatProgress(value=0.0, max=1.0)"
      ]
     },
     "metadata": {},
     "output_type": "display_data"
    },
    {
     "ename": "FileNotFoundError",
     "evalue": "[Errno 2] No such file or directory: 'C:\\\\\\\\highfreq\\\\\\\\BB\\\\metadata\\\\dynamicMetadata.csv'",
     "output_type": "error",
     "traceback": [
      "\u001b[1;31m---------------------------------------------------------------------------\u001b[0m",
      "\u001b[1;31mFileNotFoundError\u001b[0m                         Traceback (most recent call last)",
      "Cell \u001b[1;32mIn[5], line 27\u001b[0m\n\u001b[0;32m     25\u001b[0m RG \u001b[39m=\u001b[39m read_GHG(\u001b[39m'\u001b[39m\u001b[39mVariable_defs.ini\u001b[39m\u001b[39m'\u001b[39m)\n\u001b[0;32m     26\u001b[0m RG\u001b[39m.\u001b[39mfind_ghg(\u001b[39m'\u001b[39m\u001b[39mBB\u001b[39m\u001b[39m'\u001b[39m)\n\u001b[1;32m---> 27\u001b[0m RG\u001b[39m.\u001b[39;49mRead()\n\u001b[0;32m     28\u001b[0m RG\u001b[39m.\u001b[39mfiles\n\u001b[0;32m     29\u001b[0m \u001b[39m# def find_new_GHG(Site,make_new=False):\u001b[39;00m\n\u001b[0;32m     30\u001b[0m \n\u001b[0;32m     31\u001b[0m \u001b[39m#     i = 0\u001b[39;00m\n\u001b[1;32m   (...)\u001b[0m\n\u001b[0;32m     97\u001b[0m \n\u001b[0;32m     98\u001b[0m \u001b[39m# Records['altitude'].astype(float).describe()\u001b[39;00m\n",
      "File \u001b[1;32mc:\\Users\\User\\PostDoc_Work\\GHG_Processing\\Parser.py:63\u001b[0m, in \u001b[0;36mread_GHG.Read\u001b[1;34m(self, reset)\u001b[0m\n\u001b[0;32m     60\u001b[0m \u001b[39mself\u001b[39m\u001b[39m.\u001b[39mfiles \u001b[39m=\u001b[39m \u001b[39mself\u001b[39m\u001b[39m.\u001b[39mfiles\u001b[39m.\u001b[39msort_index(ascending\u001b[39m=\u001b[39m\u001b[39mFalse\u001b[39;00m)\n\u001b[0;32m     62\u001b[0m \u001b[39mif\u001b[39;00m reset \u001b[39mis\u001b[39;00m \u001b[39mFalse\u001b[39;00m \u001b[39mand\u001b[39;00m os\u001b[39m.\u001b[39mpath\u001b[39m.\u001b[39misfile(\u001b[39mself\u001b[39m\u001b[39m.\u001b[39mmeta_dir\u001b[39m+\u001b[39m\u001b[39m'\u001b[39m\u001b[39mdynamicMetadata.csv\u001b[39m\u001b[39m'\u001b[39m):\n\u001b[1;32m---> 63\u001b[0m     \u001b[39mself\u001b[39m\u001b[39m.\u001b[39mdynamicMetadata \u001b[39m=\u001b[39m pd\u001b[39m.\u001b[39mread_csv(\u001b[39mself\u001b[39m\u001b[39m.\u001b[39mmeta_dir\u001b[39m+\u001b[39m\u001b[39m'\u001b[39m\u001b[39mdynamicMetadata.csv\u001b[39m\u001b[39m'\u001b[39m)\n\u001b[0;32m     64\u001b[0m     \u001b[39mself\u001b[39m\u001b[39m.\u001b[39mChannels \u001b[39m=\u001b[39m pd\u001b[39m.\u001b[39mread_csv(\u001b[39mself\u001b[39m\u001b[39m.\u001b[39mmeta_dir\u001b[39m+\u001b[39m\u001b[39m'\u001b[39m\u001b[39mChannels.csv\u001b[39m\u001b[39m'\u001b[39m)\n\u001b[0;32m     65\u001b[0m \u001b[39melse\u001b[39;00m:\n",
      "File \u001b[1;32mc:\\Users\\User\\PostDoc_Work\\GHG_Processing\\.venv\\lib\\site-packages\\pandas\\util\\_decorators.py:211\u001b[0m, in \u001b[0;36mdeprecate_kwarg.<locals>._deprecate_kwarg.<locals>.wrapper\u001b[1;34m(*args, **kwargs)\u001b[0m\n\u001b[0;32m    209\u001b[0m     \u001b[39melse\u001b[39;00m:\n\u001b[0;32m    210\u001b[0m         kwargs[new_arg_name] \u001b[39m=\u001b[39m new_arg_value\n\u001b[1;32m--> 211\u001b[0m \u001b[39mreturn\u001b[39;00m func(\u001b[39m*\u001b[39margs, \u001b[39m*\u001b[39m\u001b[39m*\u001b[39mkwargs)\n",
      "File \u001b[1;32mc:\\Users\\User\\PostDoc_Work\\GHG_Processing\\.venv\\lib\\site-packages\\pandas\\util\\_decorators.py:331\u001b[0m, in \u001b[0;36mdeprecate_nonkeyword_arguments.<locals>.decorate.<locals>.wrapper\u001b[1;34m(*args, **kwargs)\u001b[0m\n\u001b[0;32m    325\u001b[0m \u001b[39mif\u001b[39;00m \u001b[39mlen\u001b[39m(args) \u001b[39m>\u001b[39m num_allow_args:\n\u001b[0;32m    326\u001b[0m     warnings\u001b[39m.\u001b[39mwarn(\n\u001b[0;32m    327\u001b[0m         msg\u001b[39m.\u001b[39mformat(arguments\u001b[39m=\u001b[39m_format_argument_list(allow_args)),\n\u001b[0;32m    328\u001b[0m         \u001b[39mFutureWarning\u001b[39;00m,\n\u001b[0;32m    329\u001b[0m         stacklevel\u001b[39m=\u001b[39mfind_stack_level(),\n\u001b[0;32m    330\u001b[0m     )\n\u001b[1;32m--> 331\u001b[0m \u001b[39mreturn\u001b[39;00m func(\u001b[39m*\u001b[39margs, \u001b[39m*\u001b[39m\u001b[39m*\u001b[39mkwargs)\n",
      "File \u001b[1;32mc:\\Users\\User\\PostDoc_Work\\GHG_Processing\\.venv\\lib\\site-packages\\pandas\\io\\parsers\\readers.py:950\u001b[0m, in \u001b[0;36mread_csv\u001b[1;34m(filepath_or_buffer, sep, delimiter, header, names, index_col, usecols, squeeze, prefix, mangle_dupe_cols, dtype, engine, converters, true_values, false_values, skipinitialspace, skiprows, skipfooter, nrows, na_values, keep_default_na, na_filter, verbose, skip_blank_lines, parse_dates, infer_datetime_format, keep_date_col, date_parser, dayfirst, cache_dates, iterator, chunksize, compression, thousands, decimal, lineterminator, quotechar, quoting, doublequote, escapechar, comment, encoding, encoding_errors, dialect, error_bad_lines, warn_bad_lines, on_bad_lines, delim_whitespace, low_memory, memory_map, float_precision, storage_options)\u001b[0m\n\u001b[0;32m    935\u001b[0m kwds_defaults \u001b[39m=\u001b[39m _refine_defaults_read(\n\u001b[0;32m    936\u001b[0m     dialect,\n\u001b[0;32m    937\u001b[0m     delimiter,\n\u001b[1;32m   (...)\u001b[0m\n\u001b[0;32m    946\u001b[0m     defaults\u001b[39m=\u001b[39m{\u001b[39m\"\u001b[39m\u001b[39mdelimiter\u001b[39m\u001b[39m\"\u001b[39m: \u001b[39m\"\u001b[39m\u001b[39m,\u001b[39m\u001b[39m\"\u001b[39m},\n\u001b[0;32m    947\u001b[0m )\n\u001b[0;32m    948\u001b[0m kwds\u001b[39m.\u001b[39mupdate(kwds_defaults)\n\u001b[1;32m--> 950\u001b[0m \u001b[39mreturn\u001b[39;00m _read(filepath_or_buffer, kwds)\n",
      "File \u001b[1;32mc:\\Users\\User\\PostDoc_Work\\GHG_Processing\\.venv\\lib\\site-packages\\pandas\\io\\parsers\\readers.py:605\u001b[0m, in \u001b[0;36m_read\u001b[1;34m(filepath_or_buffer, kwds)\u001b[0m\n\u001b[0;32m    602\u001b[0m _validate_names(kwds\u001b[39m.\u001b[39mget(\u001b[39m\"\u001b[39m\u001b[39mnames\u001b[39m\u001b[39m\"\u001b[39m, \u001b[39mNone\u001b[39;00m))\n\u001b[0;32m    604\u001b[0m \u001b[39m# Create the parser.\u001b[39;00m\n\u001b[1;32m--> 605\u001b[0m parser \u001b[39m=\u001b[39m TextFileReader(filepath_or_buffer, \u001b[39m*\u001b[39m\u001b[39m*\u001b[39mkwds)\n\u001b[0;32m    607\u001b[0m \u001b[39mif\u001b[39;00m chunksize \u001b[39mor\u001b[39;00m iterator:\n\u001b[0;32m    608\u001b[0m     \u001b[39mreturn\u001b[39;00m parser\n",
      "File \u001b[1;32mc:\\Users\\User\\PostDoc_Work\\GHG_Processing\\.venv\\lib\\site-packages\\pandas\\io\\parsers\\readers.py:1442\u001b[0m, in \u001b[0;36mTextFileReader.__init__\u001b[1;34m(self, f, engine, **kwds)\u001b[0m\n\u001b[0;32m   1439\u001b[0m     \u001b[39mself\u001b[39m\u001b[39m.\u001b[39moptions[\u001b[39m\"\u001b[39m\u001b[39mhas_index_names\u001b[39m\u001b[39m\"\u001b[39m] \u001b[39m=\u001b[39m kwds[\u001b[39m\"\u001b[39m\u001b[39mhas_index_names\u001b[39m\u001b[39m\"\u001b[39m]\n\u001b[0;32m   1441\u001b[0m \u001b[39mself\u001b[39m\u001b[39m.\u001b[39mhandles: IOHandles \u001b[39m|\u001b[39m \u001b[39mNone\u001b[39;00m \u001b[39m=\u001b[39m \u001b[39mNone\u001b[39;00m\n\u001b[1;32m-> 1442\u001b[0m \u001b[39mself\u001b[39m\u001b[39m.\u001b[39m_engine \u001b[39m=\u001b[39m \u001b[39mself\u001b[39;49m\u001b[39m.\u001b[39;49m_make_engine(f, \u001b[39mself\u001b[39;49m\u001b[39m.\u001b[39;49mengine)\n",
      "File \u001b[1;32mc:\\Users\\User\\PostDoc_Work\\GHG_Processing\\.venv\\lib\\site-packages\\pandas\\io\\parsers\\readers.py:1735\u001b[0m, in \u001b[0;36mTextFileReader._make_engine\u001b[1;34m(self, f, engine)\u001b[0m\n\u001b[0;32m   1733\u001b[0m     \u001b[39mif\u001b[39;00m \u001b[39m\"\u001b[39m\u001b[39mb\u001b[39m\u001b[39m\"\u001b[39m \u001b[39mnot\u001b[39;00m \u001b[39min\u001b[39;00m mode:\n\u001b[0;32m   1734\u001b[0m         mode \u001b[39m+\u001b[39m\u001b[39m=\u001b[39m \u001b[39m\"\u001b[39m\u001b[39mb\u001b[39m\u001b[39m\"\u001b[39m\n\u001b[1;32m-> 1735\u001b[0m \u001b[39mself\u001b[39m\u001b[39m.\u001b[39mhandles \u001b[39m=\u001b[39m get_handle(\n\u001b[0;32m   1736\u001b[0m     f,\n\u001b[0;32m   1737\u001b[0m     mode,\n\u001b[0;32m   1738\u001b[0m     encoding\u001b[39m=\u001b[39;49m\u001b[39mself\u001b[39;49m\u001b[39m.\u001b[39;49moptions\u001b[39m.\u001b[39;49mget(\u001b[39m\"\u001b[39;49m\u001b[39mencoding\u001b[39;49m\u001b[39m\"\u001b[39;49m, \u001b[39mNone\u001b[39;49;00m),\n\u001b[0;32m   1739\u001b[0m     compression\u001b[39m=\u001b[39;49m\u001b[39mself\u001b[39;49m\u001b[39m.\u001b[39;49moptions\u001b[39m.\u001b[39;49mget(\u001b[39m\"\u001b[39;49m\u001b[39mcompression\u001b[39;49m\u001b[39m\"\u001b[39;49m, \u001b[39mNone\u001b[39;49;00m),\n\u001b[0;32m   1740\u001b[0m     memory_map\u001b[39m=\u001b[39;49m\u001b[39mself\u001b[39;49m\u001b[39m.\u001b[39;49moptions\u001b[39m.\u001b[39;49mget(\u001b[39m\"\u001b[39;49m\u001b[39mmemory_map\u001b[39;49m\u001b[39m\"\u001b[39;49m, \u001b[39mFalse\u001b[39;49;00m),\n\u001b[0;32m   1741\u001b[0m     is_text\u001b[39m=\u001b[39;49mis_text,\n\u001b[0;32m   1742\u001b[0m     errors\u001b[39m=\u001b[39;49m\u001b[39mself\u001b[39;49m\u001b[39m.\u001b[39;49moptions\u001b[39m.\u001b[39;49mget(\u001b[39m\"\u001b[39;49m\u001b[39mencoding_errors\u001b[39;49m\u001b[39m\"\u001b[39;49m, \u001b[39m\"\u001b[39;49m\u001b[39mstrict\u001b[39;49m\u001b[39m\"\u001b[39;49m),\n\u001b[0;32m   1743\u001b[0m     storage_options\u001b[39m=\u001b[39;49m\u001b[39mself\u001b[39;49m\u001b[39m.\u001b[39;49moptions\u001b[39m.\u001b[39;49mget(\u001b[39m\"\u001b[39;49m\u001b[39mstorage_options\u001b[39;49m\u001b[39m\"\u001b[39;49m, \u001b[39mNone\u001b[39;49;00m),\n\u001b[0;32m   1744\u001b[0m )\n\u001b[0;32m   1745\u001b[0m \u001b[39massert\u001b[39;00m \u001b[39mself\u001b[39m\u001b[39m.\u001b[39mhandles \u001b[39mis\u001b[39;00m \u001b[39mnot\u001b[39;00m \u001b[39mNone\u001b[39;00m\n\u001b[0;32m   1746\u001b[0m f \u001b[39m=\u001b[39m \u001b[39mself\u001b[39m\u001b[39m.\u001b[39mhandles\u001b[39m.\u001b[39mhandle\n",
      "File \u001b[1;32mc:\\Users\\User\\PostDoc_Work\\GHG_Processing\\.venv\\lib\\site-packages\\pandas\\io\\common.py:856\u001b[0m, in \u001b[0;36mget_handle\u001b[1;34m(path_or_buf, mode, encoding, compression, memory_map, is_text, errors, storage_options)\u001b[0m\n\u001b[0;32m    851\u001b[0m \u001b[39melif\u001b[39;00m \u001b[39misinstance\u001b[39m(handle, \u001b[39mstr\u001b[39m):\n\u001b[0;32m    852\u001b[0m     \u001b[39m# Check whether the filename is to be opened in binary mode.\u001b[39;00m\n\u001b[0;32m    853\u001b[0m     \u001b[39m# Binary mode does not support 'encoding' and 'newline'.\u001b[39;00m\n\u001b[0;32m    854\u001b[0m     \u001b[39mif\u001b[39;00m ioargs\u001b[39m.\u001b[39mencoding \u001b[39mand\u001b[39;00m \u001b[39m\"\u001b[39m\u001b[39mb\u001b[39m\u001b[39m\"\u001b[39m \u001b[39mnot\u001b[39;00m \u001b[39min\u001b[39;00m ioargs\u001b[39m.\u001b[39mmode:\n\u001b[0;32m    855\u001b[0m         \u001b[39m# Encoding\u001b[39;00m\n\u001b[1;32m--> 856\u001b[0m         handle \u001b[39m=\u001b[39m \u001b[39mopen\u001b[39;49m(\n\u001b[0;32m    857\u001b[0m             handle,\n\u001b[0;32m    858\u001b[0m             ioargs\u001b[39m.\u001b[39;49mmode,\n\u001b[0;32m    859\u001b[0m             encoding\u001b[39m=\u001b[39;49mioargs\u001b[39m.\u001b[39;49mencoding,\n\u001b[0;32m    860\u001b[0m             errors\u001b[39m=\u001b[39;49merrors,\n\u001b[0;32m    861\u001b[0m             newline\u001b[39m=\u001b[39;49m\u001b[39m\"\u001b[39;49m\u001b[39m\"\u001b[39;49m,\n\u001b[0;32m    862\u001b[0m         )\n\u001b[0;32m    863\u001b[0m     \u001b[39melse\u001b[39;00m:\n\u001b[0;32m    864\u001b[0m         \u001b[39m# Binary mode\u001b[39;00m\n\u001b[0;32m    865\u001b[0m         handle \u001b[39m=\u001b[39m \u001b[39mopen\u001b[39m(handle, ioargs\u001b[39m.\u001b[39mmode)\n",
      "\u001b[1;31mFileNotFoundError\u001b[0m: [Errno 2] No such file or directory: 'C:\\\\\\\\highfreq\\\\\\\\BB\\\\metadata\\\\dynamicMetadata.csv'"
     ]
    }
   ],
   "source": [
    "\n",
    "# def find_new_GHG(Site,make_new=False):\n",
    "\n",
    "\n",
    "#     for (root, dirs, files) in sorted(os.walk(raw_dir)):\n",
    "#         # if root.__contains__('raw') :\n",
    "#         for file in files:\n",
    "#             name, tag = file.split('.')\n",
    "#             # .ghg files are located at the end of each directory tree\n",
    "#             # Avoids reading any that might be misplaced elsewhere\n",
    "#             if tag == 'ghg' and len(dirs)==0 and file not in FileNames:  \n",
    "                \n",
    "#                 # if i <= 48*5:\n",
    "#                 if i <= 2:\n",
    "#                     GHG_out = read_GHG(root,name,ini)\n",
    "#                     Records = pd.concat(\n",
    "#                         [Records,GHG_out.Summary],\n",
    "#                         axis=0,\n",
    "#                         ignore_index=True\n",
    "#                     )\n",
    "#                     Channels = pd.concat(\n",
    "#                         [Channels,GHG_out.Channels],\n",
    "#                         axis=0,\n",
    "#                         ignore_index=True\n",
    "#                     )\n",
    "#                     i += 1\n",
    "#             f.value = i/len(files)\n",
    "#     return(Records,Channels,meta_dir,i)\n",
    "\n",
    "# Records,Channels,meta_dir,i = find_new_GHG('BB',make_new=True)\n",
    "\n",
    "# Records.to_csv(meta_dir+'GHGMetaData.csv',index=False)\n",
    "# Channels.to_csv(meta_dir+'EP_Channels.csv',index=False)\n",
    "\n",
    "# elapsed = time.time()-T1\n",
    "# print('Processing time ', elapsed) \n",
    "# print('To inspect ', i, ' .ghg files')\n",
    "# print('Seconds/file ', elapsed/(i+1)) \n",
    "\n",
    "# staticMetaData = Records[staticMetaData_FloatHeaders].astype(float).mean()\n",
    "# staticMetaData = pd.concat([Records[staticMetaData_TextHeaders].astype(str).mode().T[0],staticMetaData])\n",
    "# print(staticMetaData)\n",
    "\n",
    "# dynamicMetaData = Records.set_index('TimeStamp')[dynamicMetaData_Headers]\n",
    "# dynamicMetaData['date']=dynamicMetaData.index.date\n",
    "# dynamicMetaData['time']=dynamicMetaData.index.time\n",
    "# dynamicMetaData.to_csv(meta_dir+'dynamicMetaData.csv',index=False)\n",
    "# dynamicMetaData\n",
    "\n",
    "# # Processing time  65.87000775337219\n",
    "# # To inspect  241  .ghg files\n",
    "\n",
    "# Records['altitude'].astype(float).describe()\n"
   ]
  },
  {
   "cell_type": "markdown",
   "metadata": {},
   "source": []
  },
  {
   "cell_type": "code",
   "execution_count": 15,
   "metadata": {},
   "outputs": [
    {
     "name": "stderr",
     "output_type": "stream",
     "text": [
      "C:\\Users\\User\\AppData\\Local\\Temp\\ipykernel_2096\\2594540961.py:2: FutureWarning: Dropping of nuisance columns in DataFrame reductions (with 'numeric_only=None') is deprecated; in a future version this will raise TypeError.  Select only valid columns before calling the reduction.\n",
      "  Channels.loc[(Channels.diff()).sum(axis=1)!=0].index\n"
     ]
    },
    {
     "data": {
      "text/html": [
       "<div>\n",
       "<style scoped>\n",
       "    .dataframe tbody tr th:only-of-type {\n",
       "        vertical-align: middle;\n",
       "    }\n",
       "\n",
       "    .dataframe tbody tr th {\n",
       "        vertical-align: top;\n",
       "    }\n",
       "\n",
       "    .dataframe thead th {\n",
       "        text-align: right;\n",
       "    }\n",
       "</style>\n",
       "<table border=\"1\" class=\"dataframe\">\n",
       "  <thead>\n",
       "    <tr style=\"text-align: right;\">\n",
       "      <th></th>\n",
       "      <th>CO2 dry(umol/mol)</th>\n",
       "      <th>H2O dry(mmol/mol)</th>\n",
       "      <th>CH4 (mmol/m^3)</th>\n",
       "      <th>N2O (mmol/m^3)</th>\n",
       "      <th>Temperature In (C)</th>\n",
       "      <th>Temperature Out (C)</th>\n",
       "      <th>Total Pressure (kPa)</th>\n",
       "      <th>CH4 Temperature</th>\n",
       "      <th>CH4 Pressure</th>\n",
       "      <th>Cell Temperature (C)</th>\n",
       "      <th>Diagnostic Value</th>\n",
       "      <th>CH4 Diagnostic Value</th>\n",
       "      <th>Anemometer Diagnostics</th>\n",
       "      <th>Diagnostic Value 2</th>\n",
       "      <th>TimeStamp</th>\n",
       "    </tr>\n",
       "    <tr>\n",
       "      <th>filename</th>\n",
       "      <th></th>\n",
       "      <th></th>\n",
       "      <th></th>\n",
       "      <th></th>\n",
       "      <th></th>\n",
       "      <th></th>\n",
       "      <th></th>\n",
       "      <th></th>\n",
       "      <th></th>\n",
       "      <th></th>\n",
       "      <th></th>\n",
       "      <th></th>\n",
       "      <th></th>\n",
       "      <th></th>\n",
       "      <th></th>\n",
       "    </tr>\n",
       "  </thead>\n",
       "  <tbody>\n",
       "    <tr>\n",
       "      <th>2022-06-17T120914_LI-7200.ghg</th>\n",
       "      <td>26</td>\n",
       "      <td>28</td>\n",
       "      <td>50</td>\n",
       "      <td>0</td>\n",
       "      <td>31</td>\n",
       "      <td>32</td>\n",
       "      <td>15</td>\n",
       "      <td>51</td>\n",
       "      <td>52</td>\n",
       "      <td>30</td>\n",
       "      <td>4</td>\n",
       "      <td>54</td>\n",
       "      <td>0</td>\n",
       "      <td>5</td>\n",
       "      <td>2022-06-17 12:09:14</td>\n",
       "    </tr>\n",
       "    <tr>\n",
       "      <th>2022-06-17T123000_LI-7200.ghg</th>\n",
       "      <td>26</td>\n",
       "      <td>28</td>\n",
       "      <td>50</td>\n",
       "      <td>0</td>\n",
       "      <td>31</td>\n",
       "      <td>32</td>\n",
       "      <td>15</td>\n",
       "      <td>51</td>\n",
       "      <td>52</td>\n",
       "      <td>30</td>\n",
       "      <td>4</td>\n",
       "      <td>54</td>\n",
       "      <td>0</td>\n",
       "      <td>5</td>\n",
       "      <td>2022-06-17 12:30:00</td>\n",
       "    </tr>\n",
       "    <tr>\n",
       "      <th>2022-06-17T130000_LI-7200.ghg</th>\n",
       "      <td>26</td>\n",
       "      <td>28</td>\n",
       "      <td>50</td>\n",
       "      <td>0</td>\n",
       "      <td>31</td>\n",
       "      <td>32</td>\n",
       "      <td>15</td>\n",
       "      <td>51</td>\n",
       "      <td>52</td>\n",
       "      <td>30</td>\n",
       "      <td>4</td>\n",
       "      <td>54</td>\n",
       "      <td>0</td>\n",
       "      <td>5</td>\n",
       "      <td>2022-06-17 13:00:00</td>\n",
       "    </tr>\n",
       "  </tbody>\n",
       "</table>\n",
       "</div>"
      ],
      "text/plain": [
       "                               CO2 dry(umol/mol)  H2O dry(mmol/mol)  \\\n",
       "filename                                                              \n",
       "2022-06-17T120914_LI-7200.ghg                 26                 28   \n",
       "2022-06-17T123000_LI-7200.ghg                 26                 28   \n",
       "2022-06-17T130000_LI-7200.ghg                 26                 28   \n",
       "\n",
       "                               CH4 (mmol/m^3)  N2O (mmol/m^3)  \\\n",
       "filename                                                        \n",
       "2022-06-17T120914_LI-7200.ghg              50               0   \n",
       "2022-06-17T123000_LI-7200.ghg              50               0   \n",
       "2022-06-17T130000_LI-7200.ghg              50               0   \n",
       "\n",
       "                               Temperature In (C)  Temperature Out (C)  \\\n",
       "filename                                                                 \n",
       "2022-06-17T120914_LI-7200.ghg                  31                   32   \n",
       "2022-06-17T123000_LI-7200.ghg                  31                   32   \n",
       "2022-06-17T130000_LI-7200.ghg                  31                   32   \n",
       "\n",
       "                               Total Pressure (kPa)  CH4 Temperature  \\\n",
       "filename                                                               \n",
       "2022-06-17T120914_LI-7200.ghg                    15               51   \n",
       "2022-06-17T123000_LI-7200.ghg                    15               51   \n",
       "2022-06-17T130000_LI-7200.ghg                    15               51   \n",
       "\n",
       "                               CH4 Pressure  Cell Temperature (C)  \\\n",
       "filename                                                            \n",
       "2022-06-17T120914_LI-7200.ghg            52                    30   \n",
       "2022-06-17T123000_LI-7200.ghg            52                    30   \n",
       "2022-06-17T130000_LI-7200.ghg            52                    30   \n",
       "\n",
       "                               Diagnostic Value  CH4 Diagnostic Value  \\\n",
       "filename                                                                \n",
       "2022-06-17T120914_LI-7200.ghg                 4                    54   \n",
       "2022-06-17T123000_LI-7200.ghg                 4                    54   \n",
       "2022-06-17T130000_LI-7200.ghg                 4                    54   \n",
       "\n",
       "                               Anemometer Diagnostics  Diagnostic Value 2  \\\n",
       "filename                                                                    \n",
       "2022-06-17T120914_LI-7200.ghg                       0                   5   \n",
       "2022-06-17T123000_LI-7200.ghg                       0                   5   \n",
       "2022-06-17T130000_LI-7200.ghg                       0                   5   \n",
       "\n",
       "                                        TimeStamp  \n",
       "filename                                           \n",
       "2022-06-17T120914_LI-7200.ghg 2022-06-17 12:09:14  \n",
       "2022-06-17T123000_LI-7200.ghg 2022-06-17 12:30:00  \n",
       "2022-06-17T130000_LI-7200.ghg 2022-06-17 13:00:00  "
      ]
     },
     "execution_count": 15,
     "metadata": {},
     "output_type": "execute_result"
    }
   ],
   "source": [
    "# Channels = Channels.set_index('filename')\n",
    "Channels.loc[(Channels.diff()).sum(axis=1)!=0].index\n",
    "\n",
    "\n",
    "# Channels[(Channels.diff()!=0).sum(axis=0)]\n",
    "Channels#['TimeStamp'].diff()"
   ]
  },
  {
   "cell_type": "code",
   "execution_count": 72,
   "metadata": {},
   "outputs": [
    {
     "name": "stdout",
     "output_type": "stream",
     "text": [
      "(17520,)\n",
      "17520\n",
      "[738522.02083333 738522.04166667 738522.0625     ... 738886.95833333\n",
      " 738886.97916667 738887.        ]\n"
     ]
    },
    {
     "data": {
      "text/plain": [
       "DatetimeIndex(['2022-01-01 00:30:00', '2022-01-01 01:00:00',\n",
       "               '2022-01-01 01:30:00', '2022-01-01 02:00:00',\n",
       "               '2022-01-01 02:30:00', '2022-01-01 03:00:00',\n",
       "               '2022-01-01 03:30:00', '2022-01-01 04:00:00',\n",
       "               '2022-01-01 04:30:00', '2022-01-01 05:00:00',\n",
       "               ...\n",
       "               '2022-12-31 19:30:00', '2022-12-31 20:00:00',\n",
       "               '2022-12-31 20:30:00', '2022-12-31 21:00:00',\n",
       "               '2022-12-31 21:30:00', '2022-12-31 22:00:00',\n",
       "               '2022-12-31 22:30:00', '2022-12-31 23:00:00',\n",
       "               '2022-12-31 23:30:00', '2023-01-01 00:00:00'],\n",
       "              dtype='datetime64[ns]', length=17520, freq=None)"
      ]
     },
     "execution_count": 72,
     "metadata": {},
     "output_type": "execute_result"
    }
   ],
   "source": [
    "import os\n",
    "# import struct\n",
    "import numpy as np\n",
    "import pandas as pd\n",
    "# print(os.cwd)\n",
    "\n",
    "os.getcwd()\n",
    "\n",
    "Dir = 'W:\\\\2022\\\\BB\\\\Flux\\\\'\n",
    "\n",
    "Trace = 'co2_mean'\n",
    "Time = 'clean_tv'\n",
    "\n",
    "data_file = Dir + Trace\n",
    "time_file = Dir + Time\n",
    "\n",
    "# with open(filename, mode='rb') as file:\n",
    "    # if Trace == 'clean_tv':\n",
    "Time = np.fromfile(open(time_file, mode='rb'), 'float64')\n",
    "    # else:\n",
    "Var = np.fromfile(open(data_file, mode='rb'), 'float32')\n",
    "# # print(Var.shape,Time.shape)\n",
    "\n",
    "# df = pd.DataFrame(data = {\n",
    "#     'Timestamp':Time,\n",
    "#     'Var':Var\n",
    "# })\n",
    "\n",
    "print(Var.shape)\n",
    "print(2*24*365)\n",
    "\n",
    "# print(Time.shape)\n",
    "# Time = Time.reshape(-1,2)\n",
    "# Time\n",
    "# pd.to_datetime(Time,unit='s')\n",
    "\n",
    "    \n",
    "#     Data = np.array(struct.unpack(\"i\" * ((len(fileContent) -24) // 4), fileContent[20:-4]))\n",
    "\n",
    "print(Time)\n",
    "# 738522.02083333\n",
    "# Matlab Epoch Base ('0-1-0')\n",
    "base_time = 719529#.000001\n",
    "pd.to_datetime(Time-base_time,unit='D').round('s')"
   ]
  },
  {
   "cell_type": "code",
   "execution_count": 91,
   "metadata": {},
   "outputs": [
    {
     "name": "stdout",
     "output_type": "stream",
     "text": [
      "LI7200(Reg(Reg7 48),(Reg25 32768)\n",
      "),(Outputs (BW 10),(Delay 0),(InputBW 0),(SDM (Address 0)\n",
      "),(Dac1 (Source None),(Zero 0),(Full 5),(Set 0)\n",
      "),(Dac2 (Source None),(Zero 0),(Full 5),(Set 0)\n",
      "),(Dac3 (Source None),(Zero 0),(Full 5),(Set 0)\n",
      "),(Dac4 (Source None),(Zero 0),(Full 5),(Set 0)\n",
      "),(Dac5 (Source None),(Zero 0),(Full 5),(Set 0)\n",
      "),(Dac6 (Source None),(Zero 0),(Full 5),(Set 0)\n",
      "),(RS232 (Baud 38400),(Freq 0),(EOL 0D),(Labels TRUE),(DiagRec FALSE),(IM TRUE),(Ndx TRUE),(Time TRUE),(Date TRUE),(CO2Raw FALSE),(H2ORaw FALSE),(DiagVal TRUE),(DiagVal2 TRUE),(CO2D TRUE),(CO2MG TRUE),(H2OD TRUE),(H2OG TRUE),(Temp TRUE),(Pres TRUE),(Aux TRUE),(Aux2 TRUE),(Aux3 TRUE),(Aux4 TRUE),(Cooler TRUE),(ChopperCooler TRUE),(SFVin TRUE),(CO2MF TRUE),(CO2MFd FALSE),(H2OMF TRUE),(H2OMFd FALSE),(DewPt TRUE),(APres FALSE),(DPres FALSE),(AvgTemp FALSE),(TempIn FALSE),(TempOut FALSE),(AvgSS TRUE),(CO2SS TRUE),(H2OSS TRUE),(DeltaSS TRUE),(H2OAW FALSE),(H2OAWO FALSE),(CO2AW FALSE),(CO2AWO TRUE),(MeasFlowRate FALSE),(VolFlowRate FALSE),(FlowPressure FALSE),(FlowPower FALSE),(FlowDrive FALSE),(MinDrift false),(Drift false),(YZ false),(SECONDS TRUE),(NANOSECONDS TRUE),(CH4 TRUE),(CH4D TRUE),(RSSI TRUE),(DIAG TRUE),(U FALSE),(V FALSE),(W FALSE),(TS FALSE),(SOS FALSE),(AnemDiag FALSE)\n",
      "),(ENet (Freq 1),(EOL 0A),(Labels TRUE),(DiagRec FALSE),(IM TRUE),(Ndx TRUE),(Time TRUE),(Date TRUE),(CO2Raw TRUE),(H2ORaw TRUE),(DiagVal TRUE),(DiagVal2 TRUE),(CO2D TRUE),(CO2MG TRUE),(H2OD TRUE),(H2OG TRUE),(Temp TRUE),(Pres TRUE),(Aux TRUE),(Aux2 TRUE),(Aux3 TRUE),(Aux4 TRUE),(Cooler TRUE),(ChopperCooler TRUE),(SFVin TRUE),(CO2MF TRUE),(CO2MFd TRUE),(H2OMF TRUE),(H2OMFd TRUE),(DewPt TRUE),(APres TRUE),(DPres TRUE),(AvgTemp TRUE),(TempIn TRUE),(TempOut TRUE),(AvgSS TRUE),(CO2SS TRUE),(H2OSS TRUE),(DeltaSS TRUE),(H2OAW TRUE),(H2OAWO TRUE),(CO2AW TRUE),(CO2AWO TRUE),(MeasFlowRate TRUE),(VolFlowRate TRUE),(FlowPressure TRUE),(FlowPower TRUE),(FlowDrive TRUE),(MinDrift FALSE),(Drift FALSE),(YZ FALSE),(SECONDS TRUE),(NANOSECONDS TRUE),(CH4 TRUE),(CH4D TRUE),(RSSI TRUE),(DIAG TRUE),(U TRUE),(V TRUE),(W TRUE),(TS TRUE),(SOS TRUE),(AnemDiag TRUE)\n",
      "),(Logging (Freq 20.0),(Split 30),(Zip TRUE),(Ext .ghg),(Full Stop),(7700Status TRUE),(Ndx TRUE),(Time TRUE),(Date TRUE),(CO2Raw TRUE),(H2ORaw TRUE),(DiagVal TRUE),(DiagVal2 TRUE),(CO2D TRUE),(CO2MG TRUE),(H2OD TRUE),(H2OG TRUE),(Temp TRUE),(Pres TRUE),(Aux TRUE),(Aux2 TRUE),(Aux3 TRUE),(Aux4 TRUE),(Cooler TRUE),(ChopperCooler TRUE),(SFVin TRUE),(CO2MF TRUE),(CO2MFd TRUE),(H2OMF TRUE),(H2OMFd TRUE),(DewPt TRUE),(APres TRUE),(DPres TRUE),(AvgTemp TRUE),(TempIn TRUE),(TempOut TRUE),(AvgSS TRUE),(CO2SS TRUE),(H2OSS TRUE),(DeltaSS TRUE),(H2OAW TRUE),(H2OAWO TRUE),(CO2AW TRUE),(CO2AWO TRUE),(MeasFlowRate TRUE),(VolFlowRate TRUE),(FlowPressure TRUE),(FlowPower TRUE),(FlowDrive TRUE),(MinDrift false),(Drift false),(YZ false),(HTCBoard ),(HTCPower TRUE),(HTCVin TRUE),(SECONDS FALSE),(NANOSECONDS FALSE),(CH4 TRUE),(CH4D TRUE),(TEMP TRUE),(PRESSURE TRUE),(AUX1 FALSE),(AUX2 FALSE),(AUX3 FALSE),(AUX4 FALSE),(AUXTC1 FALSE),(AUXTC2 FALSE),(AUXTC3 FALSE),(RSSI TRUE),(DROPRATE FALSE),(AUXTCDIAG ),(DIAG TRUE),(Metadata (Log TRUE),(Site (site_name Burns Bog),(altitude 6.6),(gpsformat Decimal Degrees),(fluxgps TRUE),(latitude 49.1190333333),(longitude -122.995193333),(satellites 5),(canopy_height 0.65),(displacement_height 0.43),(roughness_length 0.065)\n",
      "),(Station (station_name BB2)\n",
      "),(Instruments (instr_1_manufacturer csi),(instr_1_model csat3),(instr_1_serial_no 0428),(instr_1_sw_version 4.0t),(instr_1_height 2.85),(instr_1_wformat uvw),(instr_1_wref spar),(instr_1_north_offset 180),(instr_1_head_corr 1),(instr_1_connection 0),(instr_1_port 0),(instr_1_rate ),(instr_2_manufacturer licor),(instr_2_model li7200),(instr_2_height 0.1),(instr_2_north_separation 10),(instr_2_east_separation 0),(instr_2_vertical_separation 0),(instr_2_tube_length 56),(instr_2_tube_diameter 5.334),(instr_3_id ),(instr_3_manufacturer licor),(instr_3_model li7700),(instr_3_height 0.1),(instr_3_north_separation 29),(instr_3_east_separation 11),(instr_3_vertical_separation 0)\n",
      "))\n",
      "),(TestData FALSE),(WaveData FALSE)\n",
      "),(Inputs (Pressure (Source Measured),(UserVal 0)\n",
      "),(Temperature (Source Measured),(UserVal 0)\n",
      "),(Aux (Name U),(Units m/s),(A 6.5536),(B 0)\n",
      "),(Aux2 (Name V),(Units m/s),(A 6.5536),(B 0)\n",
      "),(Aux3 (Name W),(Units m/s),(A 1.6384),(B 0)\n",
      "),(Aux4 (Name SOS),(Units m/s),(A 6.5536),(B 340)\n",
      ")),(Calibrate (ZeroCO2 (Val 1.16093),(Date Aug 25 2022 at 14:39:16)\n",
      "),(SpanCO2 (Val 1.00548),(Target 457),(Tdensity 18.2402),(Date Aug 25 2022 at 16:00:21)\n",
      "),(Span2CO2 (Val 0.0000),(Target 456.91),(Tdensity 18.5988),(ic 0.134095),(act 0.133364),(Date 4Cal)\n",
      "),(ZeroH2O (Val 1.00276),(Date Aug 25 2022 at 14:39:23)\n",
      "),(SpanH2O (Val 1.0272),(Target 16),(Tdensity 738.522),(Date Nov 1 2019 at 15:31:59)\n",
      "),(Span2H2O (Val 0.0000),(Target 12),(Tdensity 570.597),(iw 0.0833631),(awt 0.0809415),(Date 4Cal)\n",
      "),(MaxRef (CX 35055),(WX 45565.9),(Date Aug 25 2022 at 16:01:02)\n",
      ")),(Coef(Current(SerialNo 72H-0815),(Band (A 1.15)\n",
      "),(CO2 (A 9.91574E+1),(B 2.25320E+4),(C 3.44696E+6),(D 2.95807E+8),(E -4.51140E+10),(XS 0.0022),(Z 1.48E-05),(SD1 4.360E-2),(SD2 -7.310E-2),(SD3 2.069E+0)\n",
      "),(H2O (A 5.15160E+3),(B 4.91789E+6),(C -4.16727E+8),(XS -0.0010),(Z -1.96E-04),(SD1 2.580E-2),(SD2 9.784E-1),(SD3 2.360E+0)\n",
      "),(Pressure (A0 58.147),(A1 15.471)\n",
      "),(DPressure (A0 0.000),(A1 1.000)\n",
      "),(SerialNo 72H-0815),(MaxRef(B 0.049),(C 0.047)\n",
      "))\n",
      "),(Clock(PTP preferred),(Zone Etc/GMT+8)\n",
      "),(CH4 (Head TG1-0102)\n",
      "),(MeteoDevices (DevList Refresh),(Device None),(Model ),(SyncClock )\n",
      "),(FluxDevices (DevList ),(Device smart-0491)\n",
      "),(Server (HostName ),(APIKey ),(UpdateRate 30)\n",
      "),(AltServer (HostName ),(UserName ),(Password ),(FileTypes ),(NameFormat ),(TransferStart ),(TransferStop )\n",
      "),(Fluxes(Status(SmartFlux(8100 (HostName )\n",
      "),(Camera (HostName ),(MACAddr ),(Model ),(Company )\n",
      "))\n",
      ")),(Tube(SetWatts )\n",
      "),(FlowBox(SetFlowRate 150)\n",
      ")\n"
     ]
    }
   ],
   "source": [
    "import re\n",
    "import configparser\n",
    "\n",
    "co2app = open('Example_Files\\\\BB2\\\\2022-09-01T020000_AIU-1696\\\\system_config\\\\co2app.conf').read()\n",
    "\n",
    "co2app=co2app.replace(')(','),(')[1:-1].replace('))',')\\n)')\n",
    "\n",
    "# co2app=co2app.replace('\\n',']\\n').replace(')]',')').replace(' ]',']')\n",
    "\n",
    "# for i in range(4):\n",
    "#     co2app = co2app.replace('))',')\\n')\n",
    "# co2app = co2app.split('\\n')\n",
    "# for i,c in enumerate(co2app):\n",
    "#     if ']' in c:\n",
    "#         co2app[i]='['+co2app[i][1:]\n",
    "\n",
    "# co2app ='\\n'.join(c for c in co2app)\n",
    "print(co2app)\n"
   ]
  },
  {
   "cell_type": "code",
   "execution_count": 214,
   "metadata": {},
   "outputs": [
    {
     "ename": "DuplicateOptionError",
     "evalue": "While reading from '<string>' [line 231]: option 'temp' in section 'Logging' already exists",
     "output_type": "error",
     "traceback": [
      "\u001b[1;31m---------------------------------------------------------------------------\u001b[0m",
      "\u001b[1;31mDuplicateOptionError\u001b[0m                      Traceback (most recent call last)",
      "Cell \u001b[1;32mIn[214], line 54\u001b[0m\n\u001b[0;32m     50\u001b[0m formatted \u001b[39m=\u001b[39m formatted\u001b[39m.\u001b[39mreplace(\u001b[39m'\u001b[39m\u001b[39m\\n\u001b[39;00m\u001b[39m\\n\u001b[39;00m\u001b[39m'\u001b[39m,\u001b[39m'\u001b[39m\u001b[39m\\n\u001b[39;00m\u001b[39m'\u001b[39m)\u001b[39m#.replace('\\n[','\\n\\n[')\u001b[39;00m\n\u001b[0;32m     53\u001b[0m config \u001b[39m=\u001b[39m configparser\u001b[39m.\u001b[39mConfigParser()\n\u001b[1;32m---> 54\u001b[0m config\u001b[39m.\u001b[39;49mread_string(formatted)\n\u001b[0;32m     55\u001b[0m \u001b[39mprint\u001b[39m(config)\n\u001b[0;32m     56\u001b[0m \u001b[39m# with open('Example_Files\\\\BB\\\\2022-08-01T010000_LI-7200\\\\system_config\\\\co2app_formatted.conf', 'w') as configfile:\u001b[39;00m\n\u001b[0;32m     57\u001b[0m \u001b[39m#     configfile.write(formatted)\u001b[39;00m\n",
      "File \u001b[1;32mC:\\Python310\\lib\\configparser.py:724\u001b[0m, in \u001b[0;36mRawConfigParser.read_string\u001b[1;34m(self, string, source)\u001b[0m\n\u001b[0;32m    722\u001b[0m \u001b[39m\u001b[39m\u001b[39m\"\"\"Read configuration from a given string.\"\"\"\u001b[39;00m\n\u001b[0;32m    723\u001b[0m sfile \u001b[39m=\u001b[39m io\u001b[39m.\u001b[39mStringIO(string)\n\u001b[1;32m--> 724\u001b[0m \u001b[39mself\u001b[39;49m\u001b[39m.\u001b[39;49mread_file(sfile, source)\n",
      "File \u001b[1;32mC:\\Python310\\lib\\configparser.py:719\u001b[0m, in \u001b[0;36mRawConfigParser.read_file\u001b[1;34m(self, f, source)\u001b[0m\n\u001b[0;32m    717\u001b[0m     \u001b[39mexcept\u001b[39;00m \u001b[39mAttributeError\u001b[39;00m:\n\u001b[0;32m    718\u001b[0m         source \u001b[39m=\u001b[39m \u001b[39m'\u001b[39m\u001b[39m<???>\u001b[39m\u001b[39m'\u001b[39m\n\u001b[1;32m--> 719\u001b[0m \u001b[39mself\u001b[39;49m\u001b[39m.\u001b[39;49m_read(f, source)\n",
      "File \u001b[1;32mC:\\Python310\\lib\\configparser.py:1097\u001b[0m, in \u001b[0;36mRawConfigParser._read\u001b[1;34m(self, fp, fpname)\u001b[0m\n\u001b[0;32m   1094\u001b[0m optname \u001b[39m=\u001b[39m \u001b[39mself\u001b[39m\u001b[39m.\u001b[39moptionxform(optname\u001b[39m.\u001b[39mrstrip())\n\u001b[0;32m   1095\u001b[0m \u001b[39mif\u001b[39;00m (\u001b[39mself\u001b[39m\u001b[39m.\u001b[39m_strict \u001b[39mand\u001b[39;00m\n\u001b[0;32m   1096\u001b[0m     (sectname, optname) \u001b[39min\u001b[39;00m elements_added):\n\u001b[1;32m-> 1097\u001b[0m     \u001b[39mraise\u001b[39;00m DuplicateOptionError(sectname, optname,\n\u001b[0;32m   1098\u001b[0m                                fpname, lineno)\n\u001b[0;32m   1099\u001b[0m elements_added\u001b[39m.\u001b[39madd((sectname, optname))\n\u001b[0;32m   1100\u001b[0m \u001b[39m# This check is fine because the OPTCRE cannot\u001b[39;00m\n\u001b[0;32m   1101\u001b[0m \u001b[39m# match if it would set optval to None\u001b[39;00m\n",
      "\u001b[1;31mDuplicateOptionError\u001b[0m: While reading from '<string>' [line 231]: option 'temp' in section 'Logging' already exists"
     ]
    }
   ],
   "source": [
    "# def maxDepth(s):\n",
    " \n",
    "#     count = 0\n",
    "#     st = []\n",
    " \n",
    "#     for i in range(len(s)):\n",
    "#         if (s[i] == '('):\n",
    "#             st.append(i) # pushing the bracket in the stack\n",
    "#         elif (s[i] == ')'):\n",
    "#             if (count < len(st)):\n",
    "#                 count = len(st)\n",
    "#             # keeping track of the parenthesis and storing\n",
    "#             # it before removing it when it gets balanced\n",
    "#             st.pop()\n",
    "         \n",
    "#     return count\n",
    " \n",
    "# Driver program\n",
    " \n",
    "co2app = open('Example_Files\\\\BB\\\\2022-08-01T010000_LI-7200\\\\system_config\\\\co2app.conf').read()\n",
    "\n",
    "# s = \"( ((X)) (((Y))) )\"\n",
    "md = (maxDepth(co2app))\n",
    "\n",
    "# co2app = co2app.replace(')))))',')))))\\n')\n",
    "# print(maxDepth(co2app))\n",
    "# print(co2app)\n",
    "# re.search()\n",
    "# for i in range(2):\n",
    "#     co2app = re.search(r'\\((.*)\\)',co2app).group(1)\n",
    "#     print(len(co2app))\n",
    "# co2app = co2app.replace('(','{').replace(')','}')\n",
    "all = re.findall(r'\\((.+?)\\)',co2app)\n",
    "\n",
    "formatted =''\n",
    "for i,v in enumerate(all):\n",
    "    if '(' in v:\n",
    "        # if i != 0:\n",
    "        #     formatted += '\\n'\n",
    "        tags = v.split('(')[:-1]\n",
    "        for t in tags:\n",
    "            # formatted += '\\n'\n",
    "            formatted += '\\n['+t.replace(' ','')+']\\n'\n",
    "        formatted += v.split('(')[-1].replace(' ','=',1)\n",
    "        # pass\n",
    "    else:\n",
    "        formatted += '\\n'+v.replace(' ','=',1)\n",
    "\n",
    "# vals = {}\n",
    "formatted = formatted.replace('\\n\\n','\\n')#.replace('\\n[','\\n\\n[')\n",
    "\n",
    "\n",
    "config = configparser.ConfigParser()\n",
    "config.read_string(formatted)\n",
    "print(config)\n",
    "# with open('Example_Files\\\\BB\\\\2022-08-01T010000_LI-7200\\\\system_config\\\\co2app_formatted.conf', 'w') as configfile:\n",
    "#     configfile.write(formatted)"
   ]
  },
  {
   "cell_type": "code",
   "execution_count": 234,
   "metadata": {},
   "outputs": [
    {
     "name": "stdout",
     "output_type": "stream",
     "text": [
      "\n",
      "[Current]\n",
      "SerialNo=72H-0816\n",
      "[Band]\n",
      "A=1.15\n",
      "[CO2]\n",
      "A=1.05790E+2\n",
      "B=1.85532E+4\n",
      "C=8.28945E+6\n",
      "D=-1.15799E+9\n",
      "E=1.00378E+11\n",
      "XS=0.0028\n",
      "Z=3.84E-05\n",
      "SD1=3.230E-2\n",
      "SD2=-6.330E-2\n",
      "SD3=2.085E+0\n",
      "[H2O]\n",
      "A=5.59192E+3\n",
      "B=5.95452E+6\n",
      "C=-5.74709E+8\n",
      "XS=-0.0012\n",
      "Z=-1.96E-04\n",
      "SD1=1.910E-2\n",
      "SD2=1.323E+0\n",
      "SD3=2.385E+0\n",
      "[Pressure]\n",
      "A0=57.704\n",
      "A1=15.424\n",
      "[DPressure]\n",
      "A0=0.000\n",
      "A1=1.000\n",
      "SerialNo=72H-0816\n",
      "[MaxRef]\n",
      "B=0.050\n",
      "C=0.051\n"
     ]
    }
   ],
   "source": [
    "def make_Dict(string):\n",
    "    all = re.findall(r'\\((.+?)\\)',string)\n",
    "    formatted =''\n",
    "    for i,v in enumerate(all):\n",
    "        if '(' in v:\n",
    "            # if i != 0:\n",
    "            #     formatted += '\\n'\n",
    "            tags = v.split('(')[:-1]\n",
    "            for t in tags:\n",
    "                # formatted += '\\n'\n",
    "                formatted += '\\n['+t.replace(' ','')+']\\n'\n",
    "            formatted += v.split('(')[-1].replace(' ','=',1)\n",
    "            # pass\n",
    "        else:\n",
    "            formatted += '\\n'+v.replace(' ','=',1)\n",
    "    print(formatted)\n",
    "co2app = open('Example_Files\\\\BB\\\\2022-08-01T010000_LI-7200\\\\system_config\\\\co2app.conf').read()\n",
    "# Coefs = co2app.split('Coef')[-1]\n",
    "Calibration = co2app.split('Calibrate')[-1]\n",
    "Coefs = Calibration.split('Coef')[-1].split('(Clock')[0][:-1]\n",
    "Calibration = Calibration.split('Coef')[0][1:-2]\n",
    "make_Dict(Coefs)"
   ]
  },
  {
   "cell_type": "code",
   "execution_count": 241,
   "metadata": {},
   "outputs": [
    {
     "name": "stdout",
     "output_type": "stream",
     "text": [
      "sections\n",
      "['Site','Station','Timing','Instruments']\n"
     ]
    }
   ],
   "source": [
    "config = configparser.ConfigParser()\n",
    "config.read_file(open('Variable_defs.ini'))\n",
    "for v in config['METADATA']:\n",
    "    print(v)\n",
    "    print(config['METADATA'][v])"
   ]
  }
 ],
 "metadata": {
  "kernelspec": {
   "display_name": ".venv",
   "language": "python",
   "name": "python3"
  },
  "language_info": {
   "codemirror_mode": {
    "name": "ipython",
    "version": 3
   },
   "file_extension": ".py",
   "mimetype": "text/x-python",
   "name": "python",
   "nbconvert_exporter": "python",
   "pygments_lexer": "ipython3",
   "version": "3.10.4"
  },
  "orig_nbformat": 4,
  "vscode": {
   "interpreter": {
    "hash": "ef0cd03416062db1397a6f4c064b2fd8fe41d0681561742315105bdf1dc915d9"
   }
  }
 },
 "nbformat": 4,
 "nbformat_minor": 2
}
