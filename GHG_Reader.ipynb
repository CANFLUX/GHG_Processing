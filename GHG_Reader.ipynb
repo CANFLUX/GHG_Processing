{
 "cells": [
  {
   "attachments": {},
   "cell_type": "markdown",
   "metadata": {},
   "source": [
    "## Read .ghg metadata"
   ]
  },
  {
   "cell_type": "code",
   "execution_count": 12,
   "metadata": {},
   "outputs": [
    {
     "name": "stdout",
     "output_type": "stream",
     "text": [
      "Processing ghg files \n"
     ]
    },
    {
     "data": {
      "application/vnd.jupyter.widget-view+json": {
       "model_id": "bdec359cf3604fc297a585a1aafcde5a",
       "version_major": 2,
       "version_minor": 0
      },
      "text/plain": [
       "FloatProgress(value=0.0, max=1.0)"
      ]
     },
     "metadata": {},
     "output_type": "display_data"
    },
    {
     "name": "stdout",
     "output_type": "stream",
     "text": [
      "Processing time  1.290328025817871\n",
      "To inspect  3  .ghg files\n",
      "Seconds/file  0.3225820064544678\n",
      "site_name    BurnsBog2018\n",
      "altitude             -3.8\n",
      "latitude        49.129353\n",
      "longitude     -122.984885\n",
      "dtype: object\n"
     ]
    },
    {
     "data": {
      "text/plain": [
       "count    6.000000\n",
       "mean    -3.800000\n",
       "std      3.935988\n",
       "min     -7.400000\n",
       "25%     -7.225000\n",
       "50%     -4.800000\n",
       "75%     -0.125000\n",
       "max      0.800000\n",
       "Name: altitude, dtype: float64"
      ]
     },
     "execution_count": 12,
     "metadata": {},
     "output_type": "execute_result"
    }
   ],
   "source": [
    "import os\n",
    "import time\n",
    "import pandas as pd\n",
    "from Parse_GHG import read_GHG\n",
    "from ipywidgets import FloatProgress\n",
    "from IPython.display import display\n",
    "\n",
    "# Site = 'BB2'\n",
    "\n",
    "# Values we expect to change\n",
    "dynamicMetaData_Headers = ['altitude','canopy_height']\n",
    "\n",
    "# Values we want to fix\n",
    "staticMetaData_FloatHeaders = ['altitude', 'latitude', 'longitude']\n",
    "staticMetaData_TextHeaders = ['site_name']\n",
    "\n",
    "T1 = time.time()\n",
    "print('Processing ghg files ')\n",
    "f = FloatProgress(min=0, max=1) \n",
    "display(f) \n",
    "# Walk through the directory to find all \"raw\" folders\n",
    "\n",
    "N_recs = 4#8*31\n",
    "def find_new_GHG(Site,make_new=False):\n",
    "\n",
    "    i = 0\n",
    "    Dpath = 'C:\\\\highfreq\\\\'\n",
    "    raw_dir = Dpath+Site+'\\\\raw\\\\'\n",
    "    meta_dir = Dpath+Site+'\\\\metadata\\\\'\n",
    "    meta_file = meta_dir+'GHGMetaData.csv'\n",
    "    channel_file = meta_dir+'EP_Channels.csv'\n",
    "\n",
    "    if os.path.isfile(meta_file) and make_new is False:\n",
    "        Records = pd.read_csv(meta_file,parse_dates=['TimeStamp'])\n",
    "        Channels = pd.read_csv(channel_file)#,parse_dates=['TimeStamp'])\n",
    "        FileNames = Records['filename'].tolist()\n",
    "    else:\n",
    "        Records = pd.DataFrame()\n",
    "        Channels = pd.DataFrame()\n",
    "        FileNames = []\n",
    "        if not os.path.exists(meta_dir):\n",
    "            os.mkdir(meta_dir)\n",
    "    \n",
    "\n",
    "    for (root, dirs, files) in sorted(os.walk(raw_dir)):\n",
    "        # if root.__contains__('raw') :\n",
    "        for file in files:\n",
    "            name, tag = file.split('.')\n",
    "            # .ghg files are located at the end of each directory tree\n",
    "            # Avoids reading any that might be misplaced elsewhere\n",
    "            if tag == 'ghg' and len(dirs)==0 and file not in FileNames:  \n",
    "                \n",
    "                # if i <= 48*5:\n",
    "                if i <= 2:\n",
    "                    GHG_out = read_GHG(root,name)\n",
    "                    Records = pd.concat(\n",
    "                        [Records,GHG_out.Summary],\n",
    "                        axis=0,\n",
    "                        ignore_index=True\n",
    "                    )\n",
    "                    Channels = pd.concat(\n",
    "                        [Channels,GHG_out.Channels],\n",
    "                        axis=0,\n",
    "                        ignore_index=True\n",
    "                    )\n",
    "                    i += 1\n",
    "            f.value = i/len(files)\n",
    "    return(Records,Channels,meta_dir,i)\n",
    "\n",
    "Records,Channels,meta_dir,i = find_new_GHG('BB',make_new=False)\n",
    "\n",
    "Records.to_csv(meta_dir+'GHGMetaData.csv',index=False)\n",
    "Channels.to_csv(meta_dir+'EP_Channels.csv',index=False)\n",
    "\n",
    "elapsed = time.time()-T1\n",
    "print('Processing time ', elapsed) \n",
    "print('To inspect ', i, ' .ghg files')\n",
    "print('Seconds/file ', elapsed/(i+1)) \n",
    "\n",
    "staticMetaData = Records[staticMetaData_FloatHeaders].astype(float).mean()\n",
    "staticMetaData = pd.concat([Records[staticMetaData_TextHeaders].astype(str).mode().T[0],staticMetaData])\n",
    "print(staticMetaData)\n",
    "\n",
    "dynamicMetaData = Records.set_index('TimeStamp')[dynamicMetaData_Headers]\n",
    "dynamicMetaData['date']=dynamicMetaData.index.date\n",
    "dynamicMetaData['time']=dynamicMetaData.index.time\n",
    "dynamicMetaData.to_csv(meta_dir+'dynamicMetaData.csv',index=False)\n",
    "dynamicMetaData\n",
    "\n",
    "# Processing time  65.87000775337219\n",
    "# To inspect  241  .ghg files\n",
    "\n",
    "Records['altitude'].astype(float).describe()\n"
   ]
  },
  {
   "cell_type": "code",
   "execution_count": 20,
   "metadata": {},
   "outputs": [
    {
     "data": {
      "text/plain": [
       "Index([], dtype='object', name='filename')"
      ]
     },
     "execution_count": 20,
     "metadata": {},
     "output_type": "execute_result"
    }
   ],
   "source": [
    "# Channels = Channels.set_index('filename')\n",
    "Channels.loc[(Channels.diff()).sum(axis=1)!=0].index\n",
    "\n",
    "\n",
    "# Channels[(Channels.diff()!=0).sum(axis=0)]\n",
    "# Channels.diff()f"
   ]
  },
  {
   "cell_type": "code",
   "execution_count": 50,
   "metadata": {},
   "outputs": [
    {
     "data": {
      "text/html": [
       "<div>\n",
       "<style scoped>\n",
       "    .dataframe tbody tr th:only-of-type {\n",
       "        vertical-align: middle;\n",
       "    }\n",
       "\n",
       "    .dataframe tbody tr th {\n",
       "        vertical-align: top;\n",
       "    }\n",
       "\n",
       "    .dataframe thead th {\n",
       "        text-align: right;\n",
       "    }\n",
       "</style>\n",
       "<table border=\"1\" class=\"dataframe\">\n",
       "  <thead>\n",
       "    <tr style=\"text-align: right;\">\n",
       "      <th></th>\n",
       "      <th>filename</th>\n",
       "      <th>datetime</th>\n",
       "    </tr>\n",
       "  </thead>\n",
       "  <tbody>\n",
       "    <tr>\n",
       "      <th>0</th>\n",
       "      <td>2022-11-28T111150_LI-7200.ghg</td>\n",
       "      <td>2022-11-28T111150</td>\n",
       "    </tr>\n",
       "    <tr>\n",
       "      <th>1</th>\n",
       "      <td>2022-11-28T103000_LI-7200.ghg</td>\n",
       "      <td>2022-11-28T103000</td>\n",
       "    </tr>\n",
       "    <tr>\n",
       "      <th>2</th>\n",
       "      <td>2022-11-28T100000_LI-7200.ghg</td>\n",
       "      <td>2022-11-28T100000</td>\n",
       "    </tr>\n",
       "    <tr>\n",
       "      <th>3</th>\n",
       "      <td>2022-11-28T093000_LI-7200.ghg</td>\n",
       "      <td>2022-11-28T093000</td>\n",
       "    </tr>\n",
       "    <tr>\n",
       "      <th>4</th>\n",
       "      <td>2022-11-28T090000_LI-7200.ghg</td>\n",
       "      <td>2022-11-28T090000</td>\n",
       "    </tr>\n",
       "    <tr>\n",
       "      <th>...</th>\n",
       "      <td>...</td>\n",
       "      <td>...</td>\n",
       "    </tr>\n",
       "    <tr>\n",
       "      <th>7869</th>\n",
       "      <td>2022-06-17T140000_LI-7200.ghg</td>\n",
       "      <td>2022-06-17T140000</td>\n",
       "    </tr>\n",
       "    <tr>\n",
       "      <th>7870</th>\n",
       "      <td>2022-06-17T133000_LI-7200.ghg</td>\n",
       "      <td>2022-06-17T133000</td>\n",
       "    </tr>\n",
       "    <tr>\n",
       "      <th>7871</th>\n",
       "      <td>2022-06-17T130000_LI-7200.ghg</td>\n",
       "      <td>2022-06-17T130000</td>\n",
       "    </tr>\n",
       "    <tr>\n",
       "      <th>7872</th>\n",
       "      <td>2022-06-17T123000_LI-7200.ghg</td>\n",
       "      <td>2022-06-17T123000</td>\n",
       "    </tr>\n",
       "    <tr>\n",
       "      <th>7873</th>\n",
       "      <td>2022-06-17T120914_LI-7200.ghg</td>\n",
       "      <td>2022-06-17T120914</td>\n",
       "    </tr>\n",
       "  </tbody>\n",
       "</table>\n",
       "<p>7874 rows × 2 columns</p>\n",
       "</div>"
      ],
      "text/plain": [
       "                           filename           datetime\n",
       "0     2022-11-28T111150_LI-7200.ghg  2022-11-28T111150\n",
       "1     2022-11-28T103000_LI-7200.ghg  2022-11-28T103000\n",
       "2     2022-11-28T100000_LI-7200.ghg  2022-11-28T100000\n",
       "3     2022-11-28T093000_LI-7200.ghg  2022-11-28T093000\n",
       "4     2022-11-28T090000_LI-7200.ghg  2022-11-28T090000\n",
       "...                             ...                ...\n",
       "7869  2022-06-17T140000_LI-7200.ghg  2022-06-17T140000\n",
       "7870  2022-06-17T133000_LI-7200.ghg  2022-06-17T133000\n",
       "7871  2022-06-17T130000_LI-7200.ghg  2022-06-17T130000\n",
       "7872  2022-06-17T123000_LI-7200.ghg  2022-06-17T123000\n",
       "7873  2022-06-17T120914_LI-7200.ghg  2022-06-17T120914\n",
       "\n",
       "[7874 rows x 2 columns]"
      ]
     },
     "execution_count": 50,
     "metadata": {},
     "output_type": "execute_result"
    }
   ],
   "source": [
    "all = []\n",
    "\n",
    "for (root, dirs, files) in sorted(os.walk('C:\\\\highfreq\\\\BB\\\\raw\\\\')):\n",
    "    # print(root,dirs,files)\n",
    "    if files!=[]:\n",
    "        all.append(files)\n",
    "\n",
    "all_files = [file for sublist in all for file in sublist]\n",
    "\n",
    "all_files.sort(reverse=True)\n",
    "\n",
    "# print(all_files)\n",
    "\n",
    "df = pd.DataFrame(data={'filename':all_files})\n",
    "\n",
    "df['datetime']=df['filename'].str.split('_').str[0]\n",
    "pd.to_datetime(df['datetime'])"
   ]
  }
 ],
 "metadata": {
  "kernelspec": {
   "display_name": ".venv",
   "language": "python",
   "name": "python3"
  },
  "language_info": {
   "codemirror_mode": {
    "name": "ipython",
    "version": 3
   },
   "file_extension": ".py",
   "mimetype": "text/x-python",
   "name": "python",
   "nbconvert_exporter": "python",
   "pygments_lexer": "ipython3",
   "version": "3.10.4"
  },
  "orig_nbformat": 4,
  "vscode": {
   "interpreter": {
    "hash": "ef0cd03416062db1397a6f4c064b2fd8fe41d0681561742315105bdf1dc915d9"
   }
  }
 },
 "nbformat": 4,
 "nbformat_minor": 2
}
